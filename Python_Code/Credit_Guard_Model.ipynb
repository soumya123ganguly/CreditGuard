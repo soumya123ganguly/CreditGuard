{
  "cells": [
    {
      "cell_type": "markdown",
      "metadata": {
        "id": "ZC4zqSpEunuo"
      },
      "source": [
        "\n",
        "# Methodology:\n",
        "\n",
        "Here we use different methodologies to find the best model to determine the correlation between 'SeriousDlqin2yrs' and other credit parameters of a customer.\n",
        "\n",
        "First we load the cleaned and analysed csv file as obtained from Credit Guard_EDA notebook. Then we deploy different models to fit the data like : linear regression, logistic regression, random forest and XGboost.\n",
        "\n",
        "We find in the end that XGBoost model gives the best performance w.r.t the AUC metric.\n",
        "\n",
        "We also create a method of predicting what 3 credit parameters can be improved for a customer to not meet with serious delinquencies. We also try it for different models."
      ]
    },
    {
      "cell_type": "markdown",
      "metadata": {
        "id": "sIADC9Twu8oB"
      },
      "source": [
        "## 1. Python packages and libraries\n"
      ]
    },
    {
      "cell_type": "code",
      "execution_count": null,
      "metadata": {
        "id": "fKiNclyuulDh"
      },
      "outputs": [],
      "source": [
        "import torch, pandas as pd, numpy as np, seaborn as sns, itertools\n",
        "from matplotlib import pyplot as plt\n",
        "from pandas.plotting import scatter_matrix\n",
        "from sklearn.ensemble import RandomForestClassifier\n",
        "from sklearn.preprocessing import StandardScaler\n",
        "from sklearn.linear_model import LinearRegression, LogisticRegression, Ridge, Lasso\n",
        "from sklearn.metrics import mean_squared_error, roc_curve, roc_auc_score, RocCurveDisplay, make_scorer\n",
        "from sklearn.model_selection import train_test_split, cross_val_predict, GridSearchCV, RandomizedSearchCV\n",
        "from itertools import combinations, chain\n",
        "from xgboost import XGBClassifier"
      ]
    },
    {
      "cell_type": "markdown",
      "metadata": {
        "id": "Ob7HnhCFvJSf"
      },
      "source": [
        "## 2. Dataset importing (Cleaned Dataframe after EDA)"
      ]
    },
    {
      "cell_type": "code",
      "execution_count": null,
      "metadata": {
        "colab": {
          "base_uri": "https://localhost:8080/",
          "height": 206
        },
        "id": "a68qeAQoXr8j",
        "outputId": "63e024bc-720f-463b-fa04-9fa382471e9b"
      },
      "outputs": [
        {
          "output_type": "execute_result",
          "data": {
            "text/plain": [
              "   ID  SeriousDlqin2yrs  RevolvingUtilizationOfUnsecuredLines  age  DebtRatio  \\\n",
              "0   1                 1                              0.766127   45   0.802982   \n",
              "1   2                 0                              0.957151   40   0.121876   \n",
              "2   3                 0                              0.658180   38   0.085113   \n",
              "3   4                 0                              0.233810   30   0.036050   \n",
              "4   5                 0                              0.907239   49   0.024926   \n",
              "\n",
              "   MonthlyIncome  NumberOfOpenCreditLinesAndLoans  \\\n",
              "0         9120.0                               13   \n",
              "1         2600.0                                4   \n",
              "2         3042.0                                2   \n",
              "3         3300.0                                5   \n",
              "4        63588.0                                7   \n",
              "\n",
              "   NumberRealEstateLoansOrLines  NumberOfDependents  NumberOfTimeLate  \n",
              "0                             6                 2.0          0.333333  \n",
              "1                             0                 1.0          0.000000  \n",
              "2                             0                 0.0          0.666667  \n",
              "3                             0                 0.0          0.000000  \n",
              "4                             1                 0.0          0.166667  "
            ],
            "text/html": [
              "\n",
              "  <div id=\"df-fee91a69-2f9b-424e-9ccd-e4ef9f4080bb\" class=\"colab-df-container\">\n",
              "    <div>\n",
              "<style scoped>\n",
              "    .dataframe tbody tr th:only-of-type {\n",
              "        vertical-align: middle;\n",
              "    }\n",
              "\n",
              "    .dataframe tbody tr th {\n",
              "        vertical-align: top;\n",
              "    }\n",
              "\n",
              "    .dataframe thead th {\n",
              "        text-align: right;\n",
              "    }\n",
              "</style>\n",
              "<table border=\"1\" class=\"dataframe\">\n",
              "  <thead>\n",
              "    <tr style=\"text-align: right;\">\n",
              "      <th></th>\n",
              "      <th>ID</th>\n",
              "      <th>SeriousDlqin2yrs</th>\n",
              "      <th>RevolvingUtilizationOfUnsecuredLines</th>\n",
              "      <th>age</th>\n",
              "      <th>DebtRatio</th>\n",
              "      <th>MonthlyIncome</th>\n",
              "      <th>NumberOfOpenCreditLinesAndLoans</th>\n",
              "      <th>NumberRealEstateLoansOrLines</th>\n",
              "      <th>NumberOfDependents</th>\n",
              "      <th>NumberOfTimeLate</th>\n",
              "    </tr>\n",
              "  </thead>\n",
              "  <tbody>\n",
              "    <tr>\n",
              "      <th>0</th>\n",
              "      <td>1</td>\n",
              "      <td>1</td>\n",
              "      <td>0.766127</td>\n",
              "      <td>45</td>\n",
              "      <td>0.802982</td>\n",
              "      <td>9120.0</td>\n",
              "      <td>13</td>\n",
              "      <td>6</td>\n",
              "      <td>2.0</td>\n",
              "      <td>0.333333</td>\n",
              "    </tr>\n",
              "    <tr>\n",
              "      <th>1</th>\n",
              "      <td>2</td>\n",
              "      <td>0</td>\n",
              "      <td>0.957151</td>\n",
              "      <td>40</td>\n",
              "      <td>0.121876</td>\n",
              "      <td>2600.0</td>\n",
              "      <td>4</td>\n",
              "      <td>0</td>\n",
              "      <td>1.0</td>\n",
              "      <td>0.000000</td>\n",
              "    </tr>\n",
              "    <tr>\n",
              "      <th>2</th>\n",
              "      <td>3</td>\n",
              "      <td>0</td>\n",
              "      <td>0.658180</td>\n",
              "      <td>38</td>\n",
              "      <td>0.085113</td>\n",
              "      <td>3042.0</td>\n",
              "      <td>2</td>\n",
              "      <td>0</td>\n",
              "      <td>0.0</td>\n",
              "      <td>0.666667</td>\n",
              "    </tr>\n",
              "    <tr>\n",
              "      <th>3</th>\n",
              "      <td>4</td>\n",
              "      <td>0</td>\n",
              "      <td>0.233810</td>\n",
              "      <td>30</td>\n",
              "      <td>0.036050</td>\n",
              "      <td>3300.0</td>\n",
              "      <td>5</td>\n",
              "      <td>0</td>\n",
              "      <td>0.0</td>\n",
              "      <td>0.000000</td>\n",
              "    </tr>\n",
              "    <tr>\n",
              "      <th>4</th>\n",
              "      <td>5</td>\n",
              "      <td>0</td>\n",
              "      <td>0.907239</td>\n",
              "      <td>49</td>\n",
              "      <td>0.024926</td>\n",
              "      <td>63588.0</td>\n",
              "      <td>7</td>\n",
              "      <td>1</td>\n",
              "      <td>0.0</td>\n",
              "      <td>0.166667</td>\n",
              "    </tr>\n",
              "  </tbody>\n",
              "</table>\n",
              "</div>\n",
              "    <div class=\"colab-df-buttons\">\n",
              "\n",
              "  <div class=\"colab-df-container\">\n",
              "    <button class=\"colab-df-convert\" onclick=\"convertToInteractive('df-fee91a69-2f9b-424e-9ccd-e4ef9f4080bb')\"\n",
              "            title=\"Convert this dataframe to an interactive table.\"\n",
              "            style=\"display:none;\">\n",
              "\n",
              "  <svg xmlns=\"http://www.w3.org/2000/svg\" height=\"24px\" viewBox=\"0 -960 960 960\">\n",
              "    <path d=\"M120-120v-720h720v720H120Zm60-500h600v-160H180v160Zm220 220h160v-160H400v160Zm0 220h160v-160H400v160ZM180-400h160v-160H180v160Zm440 0h160v-160H620v160ZM180-180h160v-160H180v160Zm440 0h160v-160H620v160Z\"/>\n",
              "  </svg>\n",
              "    </button>\n",
              "\n",
              "  <style>\n",
              "    .colab-df-container {\n",
              "      display:flex;\n",
              "      gap: 12px;\n",
              "    }\n",
              "\n",
              "    .colab-df-convert {\n",
              "      background-color: #E8F0FE;\n",
              "      border: none;\n",
              "      border-radius: 50%;\n",
              "      cursor: pointer;\n",
              "      display: none;\n",
              "      fill: #1967D2;\n",
              "      height: 32px;\n",
              "      padding: 0 0 0 0;\n",
              "      width: 32px;\n",
              "    }\n",
              "\n",
              "    .colab-df-convert:hover {\n",
              "      background-color: #E2EBFA;\n",
              "      box-shadow: 0px 1px 2px rgba(60, 64, 67, 0.3), 0px 1px 3px 1px rgba(60, 64, 67, 0.15);\n",
              "      fill: #174EA6;\n",
              "    }\n",
              "\n",
              "    .colab-df-buttons div {\n",
              "      margin-bottom: 4px;\n",
              "    }\n",
              "\n",
              "    [theme=dark] .colab-df-convert {\n",
              "      background-color: #3B4455;\n",
              "      fill: #D2E3FC;\n",
              "    }\n",
              "\n",
              "    [theme=dark] .colab-df-convert:hover {\n",
              "      background-color: #434B5C;\n",
              "      box-shadow: 0px 1px 3px 1px rgba(0, 0, 0, 0.15);\n",
              "      filter: drop-shadow(0px 1px 2px rgba(0, 0, 0, 0.3));\n",
              "      fill: #FFFFFF;\n",
              "    }\n",
              "  </style>\n",
              "\n",
              "    <script>\n",
              "      const buttonEl =\n",
              "        document.querySelector('#df-fee91a69-2f9b-424e-9ccd-e4ef9f4080bb button.colab-df-convert');\n",
              "      buttonEl.style.display =\n",
              "        google.colab.kernel.accessAllowed ? 'block' : 'none';\n",
              "\n",
              "      async function convertToInteractive(key) {\n",
              "        const element = document.querySelector('#df-fee91a69-2f9b-424e-9ccd-e4ef9f4080bb');\n",
              "        const dataTable =\n",
              "          await google.colab.kernel.invokeFunction('convertToInteractive',\n",
              "                                                    [key], {});\n",
              "        if (!dataTable) return;\n",
              "\n",
              "        const docLinkHtml = 'Like what you see? Visit the ' +\n",
              "          '<a target=\"_blank\" href=https://colab.research.google.com/notebooks/data_table.ipynb>data table notebook</a>'\n",
              "          + ' to learn more about interactive tables.';\n",
              "        element.innerHTML = '';\n",
              "        dataTable['output_type'] = 'display_data';\n",
              "        await google.colab.output.renderOutput(dataTable, element);\n",
              "        const docLink = document.createElement('div');\n",
              "        docLink.innerHTML = docLinkHtml;\n",
              "        element.appendChild(docLink);\n",
              "      }\n",
              "    </script>\n",
              "  </div>\n",
              "\n",
              "\n",
              "<div id=\"df-e074057f-29ae-4b5a-9548-b39edd92937f\">\n",
              "  <button class=\"colab-df-quickchart\" onclick=\"quickchart('df-e074057f-29ae-4b5a-9548-b39edd92937f')\"\n",
              "            title=\"Suggest charts\"\n",
              "            style=\"display:none;\">\n",
              "\n",
              "<svg xmlns=\"http://www.w3.org/2000/svg\" height=\"24px\"viewBox=\"0 0 24 24\"\n",
              "     width=\"24px\">\n",
              "    <g>\n",
              "        <path d=\"M19 3H5c-1.1 0-2 .9-2 2v14c0 1.1.9 2 2 2h14c1.1 0 2-.9 2-2V5c0-1.1-.9-2-2-2zM9 17H7v-7h2v7zm4 0h-2V7h2v10zm4 0h-2v-4h2v4z\"/>\n",
              "    </g>\n",
              "</svg>\n",
              "  </button>\n",
              "\n",
              "<style>\n",
              "  .colab-df-quickchart {\n",
              "      --bg-color: #E8F0FE;\n",
              "      --fill-color: #1967D2;\n",
              "      --hover-bg-color: #E2EBFA;\n",
              "      --hover-fill-color: #174EA6;\n",
              "      --disabled-fill-color: #AAA;\n",
              "      --disabled-bg-color: #DDD;\n",
              "  }\n",
              "\n",
              "  [theme=dark] .colab-df-quickchart {\n",
              "      --bg-color: #3B4455;\n",
              "      --fill-color: #D2E3FC;\n",
              "      --hover-bg-color: #434B5C;\n",
              "      --hover-fill-color: #FFFFFF;\n",
              "      --disabled-bg-color: #3B4455;\n",
              "      --disabled-fill-color: #666;\n",
              "  }\n",
              "\n",
              "  .colab-df-quickchart {\n",
              "    background-color: var(--bg-color);\n",
              "    border: none;\n",
              "    border-radius: 50%;\n",
              "    cursor: pointer;\n",
              "    display: none;\n",
              "    fill: var(--fill-color);\n",
              "    height: 32px;\n",
              "    padding: 0;\n",
              "    width: 32px;\n",
              "  }\n",
              "\n",
              "  .colab-df-quickchart:hover {\n",
              "    background-color: var(--hover-bg-color);\n",
              "    box-shadow: 0 1px 2px rgba(60, 64, 67, 0.3), 0 1px 3px 1px rgba(60, 64, 67, 0.15);\n",
              "    fill: var(--button-hover-fill-color);\n",
              "  }\n",
              "\n",
              "  .colab-df-quickchart-complete:disabled,\n",
              "  .colab-df-quickchart-complete:disabled:hover {\n",
              "    background-color: var(--disabled-bg-color);\n",
              "    fill: var(--disabled-fill-color);\n",
              "    box-shadow: none;\n",
              "  }\n",
              "\n",
              "  .colab-df-spinner {\n",
              "    border: 2px solid var(--fill-color);\n",
              "    border-color: transparent;\n",
              "    border-bottom-color: var(--fill-color);\n",
              "    animation:\n",
              "      spin 1s steps(1) infinite;\n",
              "  }\n",
              "\n",
              "  @keyframes spin {\n",
              "    0% {\n",
              "      border-color: transparent;\n",
              "      border-bottom-color: var(--fill-color);\n",
              "      border-left-color: var(--fill-color);\n",
              "    }\n",
              "    20% {\n",
              "      border-color: transparent;\n",
              "      border-left-color: var(--fill-color);\n",
              "      border-top-color: var(--fill-color);\n",
              "    }\n",
              "    30% {\n",
              "      border-color: transparent;\n",
              "      border-left-color: var(--fill-color);\n",
              "      border-top-color: var(--fill-color);\n",
              "      border-right-color: var(--fill-color);\n",
              "    }\n",
              "    40% {\n",
              "      border-color: transparent;\n",
              "      border-right-color: var(--fill-color);\n",
              "      border-top-color: var(--fill-color);\n",
              "    }\n",
              "    60% {\n",
              "      border-color: transparent;\n",
              "      border-right-color: var(--fill-color);\n",
              "    }\n",
              "    80% {\n",
              "      border-color: transparent;\n",
              "      border-right-color: var(--fill-color);\n",
              "      border-bottom-color: var(--fill-color);\n",
              "    }\n",
              "    90% {\n",
              "      border-color: transparent;\n",
              "      border-bottom-color: var(--fill-color);\n",
              "    }\n",
              "  }\n",
              "</style>\n",
              "\n",
              "  <script>\n",
              "    async function quickchart(key) {\n",
              "      const quickchartButtonEl =\n",
              "        document.querySelector('#' + key + ' button');\n",
              "      quickchartButtonEl.disabled = true;  // To prevent multiple clicks.\n",
              "      quickchartButtonEl.classList.add('colab-df-spinner');\n",
              "      try {\n",
              "        const charts = await google.colab.kernel.invokeFunction(\n",
              "            'suggestCharts', [key], {});\n",
              "      } catch (error) {\n",
              "        console.error('Error during call to suggestCharts:', error);\n",
              "      }\n",
              "      quickchartButtonEl.classList.remove('colab-df-spinner');\n",
              "      quickchartButtonEl.classList.add('colab-df-quickchart-complete');\n",
              "    }\n",
              "    (() => {\n",
              "      let quickchartButtonEl =\n",
              "        document.querySelector('#df-e074057f-29ae-4b5a-9548-b39edd92937f button');\n",
              "      quickchartButtonEl.style.display =\n",
              "        google.colab.kernel.accessAllowed ? 'block' : 'none';\n",
              "    })();\n",
              "  </script>\n",
              "</div>\n",
              "    </div>\n",
              "  </div>\n"
            ]
          },
          "metadata": {},
          "execution_count": 31
        }
      ],
      "source": [
        "df = pd.read_csv('https://raw.githubusercontent.com/tanujmath/CreditGuard/main/data/cs-training-new.csv')\n",
        "df.head()"
      ]
    },
    {
      "cell_type": "markdown",
      "metadata": {
        "id": "PSPUET2qZWmi"
      },
      "source": [
        "# 3. Data Scaling\n",
        "\n",
        "Ofcourse we do not need all the columns scaled. We only used scaled version of the columns that are used in the regression. Also, it is not sensible to scale the column about Serious Delinquincies.  \n",
        "\n",
        "We ran our models for both scaled and non-scaled data. We found that except for linear regression, the other models give more or less the same AUC score for scaled-nonscaled data. The linear regression model performs better for scaled data. Hence we do a global scaling for all the methods here."
      ]
    },
    {
      "cell_type": "code",
      "execution_count": null,
      "metadata": {
        "id": "_LBX_9geZVhC"
      },
      "outputs": [],
      "source": [
        "# first we make a deep copy of the engineered data\n",
        "\n",
        "# first make a deep copy of the data\n",
        "df2=df.copy(deep=True)\n",
        "# standardization of columns (subtract mean and divide by variance)\n",
        "\n",
        "## Make a scaler object : i.e. the StandardScaler object below which will know what to do make the standardization in the way we want\n",
        "scaler=StandardScaler()\n",
        "\n",
        "## fit the scaler : calling 'fit' means, the case of standardizing here, knowing the columns and the mean, standard deviation of the each of the columns\n",
        "scaler.fit(df2)\n",
        "\n",
        "#let us see the new dataset\n",
        "df2.head()\n",
        "\n",
        "# scaling the data\n",
        "df_scale =scaler.transform(df2)\n",
        "\n",
        "# creating an array with the scaled regression quantities we care about:\n",
        "\n",
        "X=df_scale[:,[2,4,5,6,7,8,9]]\n",
        "\n",
        "y=df2['SeriousDlqin2yrs']\n",
        "\n",
        "X_train, X_test, y_train, y_test = train_test_split(X,y ,\n",
        "                                   random_state=14,\n",
        "                                   test_size=0.2,\n",
        "                                   shuffle=True)"
      ]
    },
    {
      "cell_type": "markdown",
      "metadata": {
        "id": "oG7Owoh4xNCy"
      },
      "source": [
        "# 4. Linear Regression Model"
      ]
    },
    {
      "cell_type": "markdown",
      "metadata": {
        "id": "-SIBuG8ZxeJV"
      },
      "source": [
        "### 4a. Regression without Regularization"
      ]
    },
    {
      "cell_type": "code",
      "execution_count": null,
      "metadata": {
        "colab": {
          "base_uri": "https://localhost:8080/"
        },
        "id": "4bsmcZhqxjWR",
        "outputId": "75e140ac-1639-46d4-ccdf-850abe3451b2"
      },
      "outputs": [
        {
          "output_type": "stream",
          "name": "stdout",
          "text": [
            "AUC for linear regression without regularization is 0.660196545736871\n",
            "MSE for linear regression without regularization is 0.2603696999182155\n"
          ]
        }
      ],
      "source": [
        "# Linear Regression with standardized data\n",
        "# we fit  the column of 'Serious Delinquencies in 2 years' of df2 with all the standardized columns starting from age in df_scale. We do train_test split and then calculate the MSE\n",
        "\n",
        "reg = LinearRegression(copy_X=True, fit_intercept=True)\n",
        "\n",
        "\n",
        "reg.fit(X_train,y_train)\n",
        "\n",
        "#print(reg.coef_) # printing the regularization coeffs\n",
        "\n",
        "\n",
        "# bringing the predicted score between 0 and 1\n",
        "y_pred= reg.predict(X_test)\n",
        "y_pred=(y_pred-min(y_pred))/(max(y_pred)-min(y_pred))\n",
        "\n",
        "\n",
        "# Calculate the AUC\n",
        "auc = roc_auc_score(y_test, y_pred)\n",
        "print(f\"AUC for linear regression without regularization is {auc}\")\n",
        "\n",
        "# MSE calculation for test set\n",
        "MSE = mean_squared_error(y_test, np.around(y_pred), squared=False)  # squarred false means it will do a squareroot of MSE in the end\n",
        "print(f\"MSE for linear regression without regularization is {MSE}\")\n"
      ]
    },
    {
      "cell_type": "markdown",
      "metadata": {
        "id": "t0-M1XenxiNw"
      },
      "source": [
        "### 4b. Linear Regression with Ridge Regularization"
      ]
    },
    {
      "cell_type": "code",
      "execution_count": null,
      "metadata": {
        "colab": {
          "base_uri": "https://localhost:8080/"
        },
        "id": "S0ruRiRdxq--",
        "outputId": "106710ce-9175-4e0b-a1c7-10a06e161182"
      },
      "outputs": [
        {
          "output_type": "stream",
          "name": "stdout",
          "text": [
            "The best MSE for linear regression with ridge regularization is 0.2603696999182155 for alpha = 0.001.\n",
            "The AUC here is 0.660196545736871\n"
          ]
        }
      ],
      "source": [
        "alpha_Hyperparams = (0.001, 0.01, 0.1, 0.5, 0.75, 1.0, 10.0)\n",
        "MSE_best = 1000\n",
        "alpha_best = 0\n",
        "\n",
        "for i in alpha_Hyperparams:\n",
        "  reg_ridge = Ridge(alpha=i, fit_intercept=True, copy_X=True) # we take the regression hyperparam to be 0.5 for now, but its an hyperparameter and we should experiment with it\n",
        "  reg_ridge.fit(X_train, y_train)\n",
        "  MSE = mean_squared_error(y_test, np.around(reg_ridge.predict(X_test)), squared=False)\n",
        "  auc = roc_auc_score(y_test, reg_ridge.predict(X_test))\n",
        "  if MSE < MSE_best:\n",
        "    MSE_best = MSE\n",
        "    alpha_best = i\n",
        "    auc_best = auc\n",
        "\n",
        "print(f\"The best MSE for linear regression with ridge regularization is {MSE_best} for alpha = {alpha_best}.\")\n",
        "print(f\"The AUC here is {auc_best}\")"
      ]
    },
    {
      "cell_type": "markdown",
      "metadata": {
        "id": "XXKbS7rZxrh8"
      },
      "source": [
        "### 4c. Linear Regression with Lasso Regularization"
      ]
    },
    {
      "cell_type": "code",
      "execution_count": null,
      "metadata": {
        "colab": {
          "base_uri": "https://localhost:8080/"
        },
        "id": "9CWYtEJcdj_Q",
        "outputId": "1c52ebe4-a673-4900-e6f8-23fbfcb84889"
      },
      "outputs": [
        {
          "output_type": "stream",
          "name": "stdout",
          "text": [
            "The best MSE for linear regression with lasso regularization is 0.2603696999182155 for alpha = 0.001.\n",
            "The AUC here is 0.6651118413542652\n"
          ]
        }
      ],
      "source": [
        "alpha_Hyperparams = (0.001, 0.01, 0.1, 0.5, 0.75, 1.0, 10.0)\n",
        "MSE_best = 1000\n",
        "alpha_best = 0\n",
        "\n",
        "for i in alpha_Hyperparams:\n",
        "  reg_lasso = Lasso(alpha=i, fit_intercept=True, copy_X=True) # we take the regression hyperparam to be 0.5 for now, but its an hyperparameter and we should experiment with it\n",
        "  reg_lasso.fit(X_train, y_train)\n",
        "  MSE = mean_squared_error(y_test, np.around(reg_lasso.predict(X_test)), squared=False)\n",
        "  auc = roc_auc_score(y_test, reg_lasso.predict(X_test))\n",
        "  if MSE < MSE_best:\n",
        "    MSE_best = MSE\n",
        "    alpha_best = i\n",
        "    auc_best = auc\n",
        "\n",
        "print(f\"The best MSE for linear regression with lasso regularization is {MSE_best} for alpha = {alpha_best}.\")\n",
        "print(f\"The AUC here is {auc_best}\")"
      ]
    },
    {
      "cell_type": "markdown",
      "metadata": {
        "id": "a0REI_zUyBaV"
      },
      "source": [
        "## 5. Logistic Regression model\n"
      ]
    },
    {
      "cell_type": "markdown",
      "metadata": {
        "id": "bWmVyU-VqrqC"
      },
      "source": [
        "First, we apply a logistic regression model on the training data using random hyperparameters and check the AUC score. Then, we see use two hyperparameter tuning methods to improve the AUC score."
      ]
    },
    {
      "cell_type": "code",
      "execution_count": null,
      "metadata": {
        "colab": {
          "base_uri": "https://localhost:8080/"
        },
        "id": "eOmy99MgyHWG",
        "outputId": "536be59e-ada2-4afa-bea6-de36053b96c0"
      },
      "outputs": [
        {
          "output_type": "stream",
          "name": "stdout",
          "text": [
            "AUC Score :  0.78308\n"
          ]
        }
      ],
      "source": [
        "##Define the feature space and the target space\n",
        "\n",
        "#Define the model with random hyperparameters\n",
        "logit = LogisticRegression(random_state=123, solver='saga',\n",
        "                           penalty='l1', class_weight='balanced',\n",
        "                           C=1.0, max_iter=1000)\n",
        "\n",
        "#Fit data into the model\n",
        "logit.fit(X_train, y_train)\n",
        "\n",
        "#Predict probabilities\n",
        "logit_scores_proba = logit.predict_proba(X_test)\n",
        "preds = logit_scores_proba[:,1]  # predictions\n",
        "\n",
        "#Printing area under curve\n",
        "print('AUC Score : ', round(roc_auc_score(y_test,preds),5) )"
      ]
    },
    {
      "cell_type": "markdown",
      "metadata": {
        "id": "JfAtLYD0mHAr"
      },
      "source": [
        "### 5a. Hyperparameter tuning"
      ]
    },
    {
      "cell_type": "code",
      "execution_count": null,
      "metadata": {
        "colab": {
          "base_uri": "https://localhost:8080/"
        },
        "id": "5H6jucj5mGR5",
        "outputId": "caf4ebd0-ba85-4e9e-a0bb-ee683c477dc1"
      },
      "outputs": [
        {
          "output_type": "stream",
          "name": "stdout",
          "text": [
            "The AUC of the test set through gridsearch tuning is 0.76822\n",
            "{'penalty': 'l2', 'max_iter': 1000, 'C': 0.0001}\n",
            "The AUC of the test set through randomsearch tuning is 0.65298\n"
          ]
        }
      ],
      "source": [
        "# Initialize logistic regression model\n",
        "model = LogisticRegression(solver='liblinear')\n",
        "\n",
        "# Define hyperparameters to tune\n",
        "hyperparameters = {'C': np.logspace(-2, 2, 10), 'penalty': ['l1', 'l2'],\n",
        "                   'max_iter': list(range(200,1200,100))}\n",
        "\n",
        "# Define scorer based on AUC\n",
        "scorer = make_scorer(roc_auc_score, needs_proba=True)\n",
        "\n",
        "## GRIDSEARCH\n",
        "\n",
        "# Initialize GridSearchCV\n",
        "gridsearch = GridSearchCV(model, hyperparameters, scoring=scorer, cv=5)\n",
        "\n",
        "# Fit GridSearchCV on training data\n",
        "gridsearch.fit(X_train, y_train)\n",
        "\n",
        "# Get the best model\n",
        "best_model = gridsearch.best_estimator_\n",
        "\n",
        "\n",
        "# Predict probabilities on test data using the best model\n",
        "y_pred_proba = best_model.predict_proba(X_test)[:, 1]\n",
        "\n",
        "# Calculate AUC\n",
        "auc = round(roc_auc_score(y_test, y_pred_proba),5)\n",
        "\n",
        "print(f'The AUC of the test set through gridsearch tuning is {auc}')\n",
        "\n",
        "## RANDOMSEARCH\n",
        "\n",
        "# Initialize RandomizedSearchCV\n",
        "randomsearch = RandomizedSearchCV(model, hyperparameters, scoring=scorer, cv=5)\n",
        "\n",
        "# Fit RandomizedSearchCV on training data\n",
        "randomsearch.fit(X_train, y_train)\n",
        "\n",
        "# Get the best model\n",
        "best_model = randomsearch.best_estimator_\n",
        "\n",
        "print(randomsearch.best_params_)\n",
        "\n",
        "# Predict probabilities on test data using the best model\n",
        "y_pred_proba = best_model.predict_proba(X_test)[:, 1]\n",
        "\n",
        "# Calculate AUC\n",
        "auc = round(roc_auc_score(y_test, y_pred_proba),5)\n",
        "\n",
        "print(f'The AUC of the test set through randomsearch tuning is {auc}')\n"
      ]
    },
    {
      "cell_type": "markdown",
      "metadata": {
        "id": "o3JR63XnpD6i"
      },
      "source": [
        "## 6. Random Forests"
      ]
    },
    {
      "cell_type": "code",
      "execution_count": null,
      "metadata": {
        "colab": {
          "base_uri": "https://localhost:8080/"
        },
        "id": "MJORVzlDlodm",
        "outputId": "6ffd2447-5392-4b30-ed37-8f447e00b54c"
      },
      "outputs": [
        {
          "output_type": "stream",
          "name": "stdout",
          "text": [
            "Fitting 5 folds for each of 10 candidates, totalling 50 fits\n"
          ]
        }
      ],
      "source": [
        "# Define the model\n",
        "rf = RandomForestClassifier()\n",
        "\n",
        "# Define the hyperparameters to tune\n",
        "param_grid = {\n",
        "    'n_estimators': [100, 200, 300, 400],\n",
        "    'max_depth': [10, 20, 30, 40],\n",
        "    'min_samples_split': [2, 5, 10],\n",
        "    'min_samples_leaf': [1, 2, 4],\n",
        "    'n_jobs': [-1]\n",
        "}\n",
        "\n",
        "# Define scorer based on AUC\n",
        "scorer = make_scorer(roc_auc_score, needs_proba=True)\n",
        "\n",
        "# Initialize RandomizedSearchCV\n",
        "randomsearch = RandomizedSearchCV(rf, param_grid, scoring=scorer, cv=5, verbose = 1)\n",
        "\n",
        "# Fit RandomizedSearchCV on training data\n",
        "randomsearch.fit(X_train, y_train)\n",
        "\n",
        "# Get the best model\n",
        "best_model = randomsearch.best_estimator_\n",
        "\n",
        "# Get the best parameters\n",
        "best_params = randomsearch.best_params_\n",
        "print(f\"Best parameters: {best_params}\")\n",
        "\n",
        "# Fit the model with the best parameters\n",
        "rf_best = RandomForestClassifier(**best_params)\n",
        "rf_best.fit(X_train, y_train)\n",
        "\n",
        "# Make predictions\n",
        "y_pred = rf_best.predict(X_test)\n",
        "y_pred_proba = best_model.predict_proba(X_test)[:, 1]\n",
        "\n",
        "# Evaluate the model\n",
        "auc = round(roc_auc_score(y_test, y_pred_proba),5)\n",
        "\n",
        "print(f\"AUC: {auc}\")"
      ]
    },
    {
      "cell_type": "markdown",
      "metadata": {
        "id": "g_3rkTLmrqCG"
      },
      "source": [
        "## 7. XGBoost"
      ]
    },
    {
      "cell_type": "code",
      "execution_count": null,
      "metadata": {
        "id": "H3dX2Y0RrsPZ",
        "colab": {
          "base_uri": "https://localhost:8080/"
        },
        "outputId": "7046c1af-c3dd-4229-a686-a5d357b3b892"
      },
      "outputs": [
        {
          "output_type": "stream",
          "name": "stdout",
          "text": [
            "Fitting 5 folds for each of 5 candidates, totalling 25 fits\n"
          ]
        },
        {
          "output_type": "stream",
          "name": "stderr",
          "text": [
            "/usr/local/lib/python3.10/dist-packages/xgboost/core.py:160: UserWarning: [21:18:16] WARNING: /workspace/src/context.cc:44: No visible GPU is found, setting device to CPU.\n",
            "  warnings.warn(smsg, UserWarning)\n"
          ]
        },
        {
          "output_type": "stream",
          "name": "stdout",
          "text": [
            "AUC: 0.842162298042981\n"
          ]
        }
      ],
      "source": [
        "# Define the model. If GPU is present, use GPU.\n",
        "model = XGBClassifier(tree_method='hist', device = 'cuda')\n",
        "\n",
        "# Define the parameters for the RandomizedSearch\n",
        "params = {\n",
        "    'min_child_weight': [1, 5, 10],\n",
        "    'gamma': [0.5, 1, 1.5, 2, 5],\n",
        "    'subsample': [0.6, 0.8, 1.0],\n",
        "    'colsample_bytree': [0.6, 0.8, 1.0],\n",
        "    'max_depth': [3, 4, 5]\n",
        "}\n",
        "\n",
        "#Initialize randomized search\n",
        "random_search = RandomizedSearchCV(model, param_distributions=params, n_iter=5,\n",
        "                                   scoring='roc_auc', n_jobs=-1, cv=5, verbose=1)\n",
        "\n",
        "# Fit the model to the training data\n",
        "random_search.fit(X_train, y_train)\n",
        "\n",
        "# Make predictions\n",
        "y_pred = random_search.predict(X_test)\n",
        "y_pred_proba = random_search.predict_proba(X_test)[:, 1]\n",
        "\n",
        "# Evaluate the model\n",
        "auc = roc_auc_score(y_test, y_pred_proba)\n",
        "\n",
        "print(f\"AUC: {auc}\")"
      ]
    },
    {
      "cell_type": "markdown",
      "metadata": {
        "id": "xd-saPe2tkLL"
      },
      "source": [
        "#Conclusion"
      ]
    },
    {
      "cell_type": "markdown",
      "metadata": {
        "id": "gzx097actmWM"
      },
      "source": [
        "We see that among all the different models that were applied to the dataset, XGBoost performs the best. To see this we use AUC metric. The AUC scores look like -\n",
        "\n",
        "\n"
      ]
    },
    {
      "cell_type": "markdown",
      "source": [
        "![image.png](data:image/png;base64,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)"
      ],
      "metadata": {
        "id": "6eW9uTaqAkIB"
      }
    }
  ],
  "metadata": {
    "colab": {
      "collapsed_sections": [
        "-SIBuG8ZxeJV",
        "t0-M1XenxiNw"
      ],
      "provenance": []
    },
    "kernelspec": {
      "display_name": "Python 3",
      "name": "python3"
    },
    "language_info": {
      "name": "python"
    }
  },
  "nbformat": 4,
  "nbformat_minor": 0
}
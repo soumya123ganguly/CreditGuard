{
  "cells": [
    {
      "cell_type": "markdown",
      "metadata": {
        "id": "ZC4zqSpEunuo"
      },
      "source": [
        "# Objective:\n",
        "\n",
        "We try to look at credit data for a large number of people. We try to analyze the data and see correlations between 'Serious Delinquencies' and other relevant credit information of a person.\n",
        "\n",
        "\n",
        "\n",
        "\n"
      ]
    },
    {
      "cell_type": "markdown",
      "source": [
        "# Dataset used:\n",
        "\n",
        "The dataset used was from a Kaggle competition called 'Give me Some Credit'. The original dataset can be found from: https://www.kaggle.com/c/GiveMeSomeCredit/data."
      ],
      "metadata": {
        "id": "hfxpB70gYuTp"
      }
    },
    {
      "cell_type": "markdown",
      "metadata": {
        "id": "sIADC9Twu8oB"
      },
      "source": [
        "## 1. Python packages and libraries\n"
      ]
    },
    {
      "cell_type": "code",
      "execution_count": 1,
      "metadata": {
        "id": "fKiNclyuulDh"
      },
      "outputs": [],
      "source": [
        "import torch, pandas as pd, numpy as np, seaborn as sns, itertools\n",
        "from matplotlib import pyplot as plt\n",
        "from pandas.plotting import scatter_matrix\n",
        "from sklearn.ensemble import RandomForestClassifier\n",
        "from sklearn.preprocessing import StandardScaler\n",
        "from sklearn.linear_model import LinearRegression, LogisticRegression, Ridge, Lasso\n",
        "from sklearn.metrics import mean_squared_error, roc_curve, roc_auc_score, RocCurveDisplay, make_scorer\n",
        "from sklearn.model_selection import train_test_split, cross_val_predict, GridSearchCV, RandomizedSearchCV\n",
        "from itertools import combinations, chain\n",
        "from xgboost import XGBClassifier\n",
        "from sklearn.metrics import confusion_matrix, ConfusionMatrixDisplay"
      ]
    },
    {
      "cell_type": "markdown",
      "metadata": {
        "id": "Ob7HnhCFvJSf"
      },
      "source": [
        "## 2. Dataset importing"
      ]
    },
    {
      "cell_type": "code",
      "execution_count": 2,
      "metadata": {
        "id": "RHAX_ZBnvWAr",
        "colab": {
          "base_uri": "https://localhost:8080/",
          "height": 224
        },
        "outputId": "9bc864bd-0243-4a36-827c-56e53e9d8471"
      },
      "outputs": [
        {
          "output_type": "stream",
          "name": "stdout",
          "text": [
            "The shape of the data is (120218, 10)\n"
          ]
        },
        {
          "output_type": "execute_result",
          "data": {
            "text/plain": [
              "   ID  SeriousDlqin2yrs  RevolvingUtilizationOfUnsecuredLines  age  DebtRatio  \\\n",
              "0   1                 1                              0.766127   45   0.802982   \n",
              "1   2                 0                              0.957151   40   0.121876   \n",
              "2   3                 0                              0.658180   38   0.085113   \n",
              "3   4                 0                              0.233810   30   0.036050   \n",
              "4   5                 0                              0.907239   49   0.024926   \n",
              "\n",
              "   MonthlyIncome  NumberOfOpenCreditLinesAndLoans  \\\n",
              "0         9120.0                               13   \n",
              "1         2600.0                                4   \n",
              "2         3042.0                                2   \n",
              "3         3300.0                                5   \n",
              "4        63588.0                                7   \n",
              "\n",
              "   NumberRealEstateLoansOrLines  NumberOfDependents  NumberOfTimeLate  \n",
              "0                             6                 2.0          0.333333  \n",
              "1                             0                 1.0          0.000000  \n",
              "2                             0                 0.0          0.666667  \n",
              "3                             0                 0.0          0.000000  \n",
              "4                             1                 0.0          0.166667  "
            ],
            "text/html": [
              "\n",
              "  <div id=\"df-0c990eb2-3927-4e1a-88d6-517043cc8edb\" class=\"colab-df-container\">\n",
              "    <div>\n",
              "<style scoped>\n",
              "    .dataframe tbody tr th:only-of-type {\n",
              "        vertical-align: middle;\n",
              "    }\n",
              "\n",
              "    .dataframe tbody tr th {\n",
              "        vertical-align: top;\n",
              "    }\n",
              "\n",
              "    .dataframe thead th {\n",
              "        text-align: right;\n",
              "    }\n",
              "</style>\n",
              "<table border=\"1\" class=\"dataframe\">\n",
              "  <thead>\n",
              "    <tr style=\"text-align: right;\">\n",
              "      <th></th>\n",
              "      <th>ID</th>\n",
              "      <th>SeriousDlqin2yrs</th>\n",
              "      <th>RevolvingUtilizationOfUnsecuredLines</th>\n",
              "      <th>age</th>\n",
              "      <th>DebtRatio</th>\n",
              "      <th>MonthlyIncome</th>\n",
              "      <th>NumberOfOpenCreditLinesAndLoans</th>\n",
              "      <th>NumberRealEstateLoansOrLines</th>\n",
              "      <th>NumberOfDependents</th>\n",
              "      <th>NumberOfTimeLate</th>\n",
              "    </tr>\n",
              "  </thead>\n",
              "  <tbody>\n",
              "    <tr>\n",
              "      <th>0</th>\n",
              "      <td>1</td>\n",
              "      <td>1</td>\n",
              "      <td>0.766127</td>\n",
              "      <td>45</td>\n",
              "      <td>0.802982</td>\n",
              "      <td>9120.0</td>\n",
              "      <td>13</td>\n",
              "      <td>6</td>\n",
              "      <td>2.0</td>\n",
              "      <td>0.333333</td>\n",
              "    </tr>\n",
              "    <tr>\n",
              "      <th>1</th>\n",
              "      <td>2</td>\n",
              "      <td>0</td>\n",
              "      <td>0.957151</td>\n",
              "      <td>40</td>\n",
              "      <td>0.121876</td>\n",
              "      <td>2600.0</td>\n",
              "      <td>4</td>\n",
              "      <td>0</td>\n",
              "      <td>1.0</td>\n",
              "      <td>0.000000</td>\n",
              "    </tr>\n",
              "    <tr>\n",
              "      <th>2</th>\n",
              "      <td>3</td>\n",
              "      <td>0</td>\n",
              "      <td>0.658180</td>\n",
              "      <td>38</td>\n",
              "      <td>0.085113</td>\n",
              "      <td>3042.0</td>\n",
              "      <td>2</td>\n",
              "      <td>0</td>\n",
              "      <td>0.0</td>\n",
              "      <td>0.666667</td>\n",
              "    </tr>\n",
              "    <tr>\n",
              "      <th>3</th>\n",
              "      <td>4</td>\n",
              "      <td>0</td>\n",
              "      <td>0.233810</td>\n",
              "      <td>30</td>\n",
              "      <td>0.036050</td>\n",
              "      <td>3300.0</td>\n",
              "      <td>5</td>\n",
              "      <td>0</td>\n",
              "      <td>0.0</td>\n",
              "      <td>0.000000</td>\n",
              "    </tr>\n",
              "    <tr>\n",
              "      <th>4</th>\n",
              "      <td>5</td>\n",
              "      <td>0</td>\n",
              "      <td>0.907239</td>\n",
              "      <td>49</td>\n",
              "      <td>0.024926</td>\n",
              "      <td>63588.0</td>\n",
              "      <td>7</td>\n",
              "      <td>1</td>\n",
              "      <td>0.0</td>\n",
              "      <td>0.166667</td>\n",
              "    </tr>\n",
              "  </tbody>\n",
              "</table>\n",
              "</div>\n",
              "    <div class=\"colab-df-buttons\">\n",
              "\n",
              "  <div class=\"colab-df-container\">\n",
              "    <button class=\"colab-df-convert\" onclick=\"convertToInteractive('df-0c990eb2-3927-4e1a-88d6-517043cc8edb')\"\n",
              "            title=\"Convert this dataframe to an interactive table.\"\n",
              "            style=\"display:none;\">\n",
              "\n",
              "  <svg xmlns=\"http://www.w3.org/2000/svg\" height=\"24px\" viewBox=\"0 -960 960 960\">\n",
              "    <path d=\"M120-120v-720h720v720H120Zm60-500h600v-160H180v160Zm220 220h160v-160H400v160Zm0 220h160v-160H400v160ZM180-400h160v-160H180v160Zm440 0h160v-160H620v160ZM180-180h160v-160H180v160Zm440 0h160v-160H620v160Z\"/>\n",
              "  </svg>\n",
              "    </button>\n",
              "\n",
              "  <style>\n",
              "    .colab-df-container {\n",
              "      display:flex;\n",
              "      gap: 12px;\n",
              "    }\n",
              "\n",
              "    .colab-df-convert {\n",
              "      background-color: #E8F0FE;\n",
              "      border: none;\n",
              "      border-radius: 50%;\n",
              "      cursor: pointer;\n",
              "      display: none;\n",
              "      fill: #1967D2;\n",
              "      height: 32px;\n",
              "      padding: 0 0 0 0;\n",
              "      width: 32px;\n",
              "    }\n",
              "\n",
              "    .colab-df-convert:hover {\n",
              "      background-color: #E2EBFA;\n",
              "      box-shadow: 0px 1px 2px rgba(60, 64, 67, 0.3), 0px 1px 3px 1px rgba(60, 64, 67, 0.15);\n",
              "      fill: #174EA6;\n",
              "    }\n",
              "\n",
              "    .colab-df-buttons div {\n",
              "      margin-bottom: 4px;\n",
              "    }\n",
              "\n",
              "    [theme=dark] .colab-df-convert {\n",
              "      background-color: #3B4455;\n",
              "      fill: #D2E3FC;\n",
              "    }\n",
              "\n",
              "    [theme=dark] .colab-df-convert:hover {\n",
              "      background-color: #434B5C;\n",
              "      box-shadow: 0px 1px 3px 1px rgba(0, 0, 0, 0.15);\n",
              "      filter: drop-shadow(0px 1px 2px rgba(0, 0, 0, 0.3));\n",
              "      fill: #FFFFFF;\n",
              "    }\n",
              "  </style>\n",
              "\n",
              "    <script>\n",
              "      const buttonEl =\n",
              "        document.querySelector('#df-0c990eb2-3927-4e1a-88d6-517043cc8edb button.colab-df-convert');\n",
              "      buttonEl.style.display =\n",
              "        google.colab.kernel.accessAllowed ? 'block' : 'none';\n",
              "\n",
              "      async function convertToInteractive(key) {\n",
              "        const element = document.querySelector('#df-0c990eb2-3927-4e1a-88d6-517043cc8edb');\n",
              "        const dataTable =\n",
              "          await google.colab.kernel.invokeFunction('convertToInteractive',\n",
              "                                                    [key], {});\n",
              "        if (!dataTable) return;\n",
              "\n",
              "        const docLinkHtml = 'Like what you see? Visit the ' +\n",
              "          '<a target=\"_blank\" href=https://colab.research.google.com/notebooks/data_table.ipynb>data table notebook</a>'\n",
              "          + ' to learn more about interactive tables.';\n",
              "        element.innerHTML = '';\n",
              "        dataTable['output_type'] = 'display_data';\n",
              "        await google.colab.output.renderOutput(dataTable, element);\n",
              "        const docLink = document.createElement('div');\n",
              "        docLink.innerHTML = docLinkHtml;\n",
              "        element.appendChild(docLink);\n",
              "      }\n",
              "    </script>\n",
              "  </div>\n",
              "\n",
              "\n",
              "<div id=\"df-1935bc0c-2234-4e89-8587-b7e3fc432429\">\n",
              "  <button class=\"colab-df-quickchart\" onclick=\"quickchart('df-1935bc0c-2234-4e89-8587-b7e3fc432429')\"\n",
              "            title=\"Suggest charts\"\n",
              "            style=\"display:none;\">\n",
              "\n",
              "<svg xmlns=\"http://www.w3.org/2000/svg\" height=\"24px\"viewBox=\"0 0 24 24\"\n",
              "     width=\"24px\">\n",
              "    <g>\n",
              "        <path d=\"M19 3H5c-1.1 0-2 .9-2 2v14c0 1.1.9 2 2 2h14c1.1 0 2-.9 2-2V5c0-1.1-.9-2-2-2zM9 17H7v-7h2v7zm4 0h-2V7h2v10zm4 0h-2v-4h2v4z\"/>\n",
              "    </g>\n",
              "</svg>\n",
              "  </button>\n",
              "\n",
              "<style>\n",
              "  .colab-df-quickchart {\n",
              "      --bg-color: #E8F0FE;\n",
              "      --fill-color: #1967D2;\n",
              "      --hover-bg-color: #E2EBFA;\n",
              "      --hover-fill-color: #174EA6;\n",
              "      --disabled-fill-color: #AAA;\n",
              "      --disabled-bg-color: #DDD;\n",
              "  }\n",
              "\n",
              "  [theme=dark] .colab-df-quickchart {\n",
              "      --bg-color: #3B4455;\n",
              "      --fill-color: #D2E3FC;\n",
              "      --hover-bg-color: #434B5C;\n",
              "      --hover-fill-color: #FFFFFF;\n",
              "      --disabled-bg-color: #3B4455;\n",
              "      --disabled-fill-color: #666;\n",
              "  }\n",
              "\n",
              "  .colab-df-quickchart {\n",
              "    background-color: var(--bg-color);\n",
              "    border: none;\n",
              "    border-radius: 50%;\n",
              "    cursor: pointer;\n",
              "    display: none;\n",
              "    fill: var(--fill-color);\n",
              "    height: 32px;\n",
              "    padding: 0;\n",
              "    width: 32px;\n",
              "  }\n",
              "\n",
              "  .colab-df-quickchart:hover {\n",
              "    background-color: var(--hover-bg-color);\n",
              "    box-shadow: 0 1px 2px rgba(60, 64, 67, 0.3), 0 1px 3px 1px rgba(60, 64, 67, 0.15);\n",
              "    fill: var(--button-hover-fill-color);\n",
              "  }\n",
              "\n",
              "  .colab-df-quickchart-complete:disabled,\n",
              "  .colab-df-quickchart-complete:disabled:hover {\n",
              "    background-color: var(--disabled-bg-color);\n",
              "    fill: var(--disabled-fill-color);\n",
              "    box-shadow: none;\n",
              "  }\n",
              "\n",
              "  .colab-df-spinner {\n",
              "    border: 2px solid var(--fill-color);\n",
              "    border-color: transparent;\n",
              "    border-bottom-color: var(--fill-color);\n",
              "    animation:\n",
              "      spin 1s steps(1) infinite;\n",
              "  }\n",
              "\n",
              "  @keyframes spin {\n",
              "    0% {\n",
              "      border-color: transparent;\n",
              "      border-bottom-color: var(--fill-color);\n",
              "      border-left-color: var(--fill-color);\n",
              "    }\n",
              "    20% {\n",
              "      border-color: transparent;\n",
              "      border-left-color: var(--fill-color);\n",
              "      border-top-color: var(--fill-color);\n",
              "    }\n",
              "    30% {\n",
              "      border-color: transparent;\n",
              "      border-left-color: var(--fill-color);\n",
              "      border-top-color: var(--fill-color);\n",
              "      border-right-color: var(--fill-color);\n",
              "    }\n",
              "    40% {\n",
              "      border-color: transparent;\n",
              "      border-right-color: var(--fill-color);\n",
              "      border-top-color: var(--fill-color);\n",
              "    }\n",
              "    60% {\n",
              "      border-color: transparent;\n",
              "      border-right-color: var(--fill-color);\n",
              "    }\n",
              "    80% {\n",
              "      border-color: transparent;\n",
              "      border-right-color: var(--fill-color);\n",
              "      border-bottom-color: var(--fill-color);\n",
              "    }\n",
              "    90% {\n",
              "      border-color: transparent;\n",
              "      border-bottom-color: var(--fill-color);\n",
              "    }\n",
              "  }\n",
              "</style>\n",
              "\n",
              "  <script>\n",
              "    async function quickchart(key) {\n",
              "      const quickchartButtonEl =\n",
              "        document.querySelector('#' + key + ' button');\n",
              "      quickchartButtonEl.disabled = true;  // To prevent multiple clicks.\n",
              "      quickchartButtonEl.classList.add('colab-df-spinner');\n",
              "      try {\n",
              "        const charts = await google.colab.kernel.invokeFunction(\n",
              "            'suggestCharts', [key], {});\n",
              "      } catch (error) {\n",
              "        console.error('Error during call to suggestCharts:', error);\n",
              "      }\n",
              "      quickchartButtonEl.classList.remove('colab-df-spinner');\n",
              "      quickchartButtonEl.classList.add('colab-df-quickchart-complete');\n",
              "    }\n",
              "    (() => {\n",
              "      let quickchartButtonEl =\n",
              "        document.querySelector('#df-1935bc0c-2234-4e89-8587-b7e3fc432429 button');\n",
              "      quickchartButtonEl.style.display =\n",
              "        google.colab.kernel.accessAllowed ? 'block' : 'none';\n",
              "    })();\n",
              "  </script>\n",
              "</div>\n",
              "    </div>\n",
              "  </div>\n"
            ]
          },
          "metadata": {},
          "execution_count": 2
        }
      ],
      "source": [
        "df = pd.read_csv('https://raw.githubusercontent.com/tanujmath/CreditGuard/main/data/cs-training-new.csv')\n",
        "print(f\"The shape of the data is {df.shape}\") #prints the shape of the data\n",
        "df.head()"
      ]
    },
    {
      "cell_type": "markdown",
      "source": [
        "## 3. Best Fit model : XGBoost\n",
        "\n",
        "### 3a. creating train-test split of the data"
      ],
      "metadata": {
        "id": "pc7aL1RB585j"
      }
    },
    {
      "cell_type": "code",
      "source": [
        "# train-test split\n",
        "\n",
        "# first we make a deep copy of the engineered data\n",
        "\n",
        "# first make a deep copy of the data\n",
        "df2=df.copy(deep=True)\n",
        "# standardization of columns (subtract mean and divide by variance)\n",
        "\n",
        "## Make a scaler object : i.e. the StandardScaler object below which will know what to do make the standardization in the way we want\n",
        "scaler=StandardScaler()\n",
        "\n",
        "## fit the scaler : calling 'fit' means, the case of standardizing here, knowing the columns and the mean, standard deviation of the each of the columns\n",
        "scaler.fit(df2)\n",
        "\n",
        "#let us see the new dataset\n",
        "df2.head()\n",
        "\n",
        "# scaling the data\n",
        "df_scale =scaler.transform(df2)\n",
        "\n",
        "# creating an array with the scaled regression quantities we care about:\n",
        "\n",
        "X=df_scale[:,[2,4,5,6,7,8,9]]\n",
        "\n",
        "y=df2['SeriousDlqin2yrs']\n",
        "\n",
        "# creating train-test split\n",
        "X_train, X_test, y_train, y_test = train_test_split(X,y ,\n",
        "                                   random_state=14,\n",
        "                                   test_size=0.2,\n",
        "                                   shuffle=True)"
      ],
      "metadata": {
        "id": "5wGnNNUk69W-"
      },
      "execution_count": 3,
      "outputs": []
    },
    {
      "cell_type": "markdown",
      "source": [
        "### 3b. Running XGBoost"
      ],
      "metadata": {
        "id": "11PdB5-17TDK"
      }
    },
    {
      "cell_type": "code",
      "source": [
        "# Define the model. If GPU is present, use GPU.\n",
        "model = XGBClassifier(tree_method='hist', device = 'cuda')\n",
        "\n",
        "# Define the parameters for the RandomizedSearch\n",
        "params = {\n",
        "    'min_child_weight': [1, 5, 10],\n",
        "    'gamma': [0.5, 1, 1.5, 2, 5],\n",
        "    'subsample': [0.6, 0.8, 1.0],\n",
        "    'colsample_bytree': [0.6, 0.8, 1.0],\n",
        "    'max_depth': [3, 4, 5]\n",
        "}\n",
        "\n",
        "#Initialize randomized search\n",
        "random_search = RandomizedSearchCV(model, param_distributions=params, n_iter=5,\n",
        "                                   scoring='roc_auc', n_jobs=-1, cv=5, verbose=1)\n",
        "\n",
        "# Fit the model to the training data\n",
        "random_search.fit(X_train, y_train)\n",
        "\n",
        "# Make predictions\n",
        "y_pred = random_search.predict(X_test)\n",
        "y_pred_proba = random_search.predict_proba(X_test)[:, 1]\n",
        "\n",
        "# Evaluate the model\n",
        "auc = roc_auc_score(y_test, y_pred_proba)\n",
        "\n",
        "print(f\"AUC: {auc}\")"
      ],
      "metadata": {
        "colab": {
          "base_uri": "https://localhost:8080/"
        },
        "id": "vyEuc0Ef5yva",
        "outputId": "125cfc50-e208-4a44-d1c2-9058fa71b533"
      },
      "execution_count": 4,
      "outputs": [
        {
          "output_type": "stream",
          "name": "stdout",
          "text": [
            "Fitting 5 folds for each of 5 candidates, totalling 25 fits\n",
            "AUC: 0.8419843934421216\n"
          ]
        },
        {
          "output_type": "stream",
          "name": "stderr",
          "text": [
            "/usr/local/lib/python3.10/dist-packages/xgboost/core.py:160: UserWarning: [00:38:33] WARNING: /workspace/src/common/error_msg.cc:58: Falling back to prediction using DMatrix due to mismatched devices. This might lead to higher memory usage and slower performance. XGBoost is running on: cuda:0, while the input data is on: cpu.\n",
            "Potential solutions:\n",
            "- Use a data structure that matches the device ordinal in the booster.\n",
            "- Set the device for booster before call to inplace_predict.\n",
            "\n",
            "This warning will only be shown once.\n",
            "\n",
            "  warnings.warn(smsg, UserWarning)\n"
          ]
        }
      ]
    },
    {
      "cell_type": "markdown",
      "source": [
        "## 4. Personalized suggestion of 3 features\n",
        "\n",
        "### 4a. Finding a threshold to identify the people with high risk of delinquency"
      ],
      "metadata": {
        "id": "txbCgHFY6Apy"
      }
    },
    {
      "cell_type": "code",
      "source": [
        "xg3=XGBClassifier(tree_method='hist', device = 'cuda')\n",
        "xg3.fit(X_train,y_train)\n",
        "delinquent_index = []\n",
        "y_pred=xg3.predict_proba(X_test)\n"
      ],
      "metadata": {
        "id": "ZFYNave16yNF"
      },
      "execution_count": 5,
      "outputs": []
    },
    {
      "cell_type": "code",
      "source": [
        "val = 0\n",
        "t = 0.1\n",
        "while(t<1):\n",
        "  y_pred_binary = [1 if y_pred[i][0]<t else 0 for i in range(len(y_pred))]\n",
        "  conf_mat = confusion_matrix(y_test, y_pred_binary)\n",
        "  yay = conf_mat[0][0] + conf_mat[1][1]\n",
        "  if yay>val:\n",
        "    val = yay\n",
        "    thresh = t\n",
        "  t+=0.1\n",
        "print(thresh)"
      ],
      "metadata": {
        "colab": {
          "base_uri": "https://localhost:8080/"
        },
        "id": "442jJzYslUi0",
        "outputId": "ad8efae2-f76a-440c-d1eb-b5037d500db7"
      },
      "execution_count": 6,
      "outputs": [
        {
          "output_type": "stream",
          "name": "stdout",
          "text": [
            "0.4\n"
          ]
        }
      ]
    },
    {
      "cell_type": "code",
      "source": [
        "y_pred_binary = [1 if y_pred[i][0]<0.4 else 0 for i in range(len(y_pred))]\n",
        "conf_mat = confusion_matrix(y_test, y_pred_binary)\n",
        "disp = ConfusionMatrixDisplay(confusion_matrix=conf_mat, display_labels=xg3.classes_)\n",
        "disp.plot()\n",
        "plt.show()"
      ],
      "metadata": {
        "colab": {
          "base_uri": "https://localhost:8080/",
          "height": 449
        },
        "id": "vm6ehFSg8dHS",
        "outputId": "edf5a2d1-fa41-4c55-c8ec-bbf7cadc3bee"
      },
      "execution_count": 7,
      "outputs": [
        {
          "output_type": "display_data",
          "data": {
            "text/plain": [
              "<Figure size 640x480 with 2 Axes>"
            ],
            "image/png": "[encoded data removed]"
          },
          "metadata": {}
        }
      ]
    },
    {
      "cell_type": "markdown",
      "source": [
        "### 4b. Identifying people with high risk of delinquency and suggesting 3 most important features for them to improve upon"
      ],
      "metadata": {
        "id": "EiPexg_F8qg_"
      }
    },
    {
      "cell_type": "code",
      "execution_count": 8,
      "metadata": {
        "colab": {
          "base_uri": "https://localhost:8080/"
        },
        "outputId": "80ab16a9-0901-449d-de92-a1215e6333b0",
        "id": "DETnwWyBQcTM"
      },
      "outputs": [
        {
          "output_type": "stream",
          "name": "stdout",
          "text": [
            "Features of Interest:\n",
            " 2 = RevolvingUtilizationOfUnsecuredLines;\n",
            "  4 = DebtRatio;\n",
            "  5 = MonthlyIncome;\n",
            "  6 = NumberOfOpenCreditLinesAndLoans;\n",
            "  7 = NumberRealEstateLoansOrLines;\n",
            " 9 = NumberOfTimeLate\n",
            " \n",
            "865\n",
            "Delinquent Index: People from test data prone to delinquency based on XGBoost\n",
            "[0, 54, 66, 76, 91, 110, 111, 117, 123, 125, 136, 177, 184, 206, 224, 259, 278, 279, 340, 380, 418, 515, 538, 565, 577, 606, 647, 693, 694, 704, 725, 734, 741, 750, 755, 778, 790, 892, 920, 971, 983, 1005, 1065, 1077, 1078, 1079, 1097, 1179, 1245, 1278, 1375, 1399, 1420, 1489, 1523, 1529, 1548, 1562, 1637, 1678, 1685, 1713, 1745, 1750, 1818, 1900, 1924, 1949, 2000, 2001, 2026, 2036, 2051, 2119, 2170, 2175, 2248, 2378, 2388, 2399, 2426, 2429, 2447, 2452, 2476, 2525, 2570, 2571, 2731, 2747, 2748, 2806, 2861, 3016, 3060, 3097, 3126, 3148, 3163, 3190, 3215, 3230, 3277, 3308, 3320, 3357, 3376, 3379, 3397, 3419, 3428, 3474, 3491, 3504, 3535, 3544, 3625, 3670, 3681, 3694, 3702, 3718, 3857, 3866, 3870, 3877, 3879, 3893, 3934, 3942, 3974, 3978, 3986, 3993, 4065, 4078, 4197, 4247, 4249, 4256, 4282, 4295, 4329, 4382, 4414, 4423, 4426, 4465, 4508, 4513, 4523, 4542, 4565, 4605, 4653, 4665, 4670, 4713, 4724, 4752, 4753, 4759, 4762, 4765, 4778, 4844, 4855, 4907, 4920, 4941, 4965, 5024, 5042, 5044, 5082, 5131, 5161, 5216, 5224, 5243, 5245, 5328, 5336, 5366, 5371, 5417, 5564, 5590, 5641, 5662, 5715, 5729, 5733, 5792, 5799, 5858, 5864, 5892, 5898, 5908, 5927, 5933, 5944, 5961, 6033, 6056, 6116, 6128, 6151, 6224, 6231, 6248, 6292, 6310, 6344, 6371, 6390, 6401, 6422, 6461, 6465, 6484, 6486, 6515, 6568, 6586, 6634, 6640, 6665, 6712, 6732, 6741, 6776, 6779, 6792, 6813, 6831, 6860, 6969, 6995, 7011, 7020, 7047, 7143, 7165, 7188, 7194, 7199, 7222, 7327, 7339, 7354, 7357, 7423, 7444, 7510, 7520, 7553, 7573, 7599, 7614, 7675, 7677, 7688, 7736, 7745, 7758, 7797, 7805, 7836, 7850, 7869, 7876, 7904, 7929, 7933, 7955, 7972, 8104, 8107, 8128, 8166, 8220, 8280, 8284, 8306, 8361, 8380, 8391, 8423, 8432, 8456, 8466, 8485, 8493, 8539, 8556, 8627, 8659, 8660, 8802, 8828, 8855, 8864, 8881, 8963, 8976, 8981, 9017, 9054, 9065, 9113, 9153, 9199, 9239, 9304, 9326, 9335, 9339, 9342, 9429, 9434, 9493, 9515, 9518, 9527, 9533, 9554, 9644, 9649, 9701, 9758, 9841, 9870, 9880, 9887, 9945, 9947, 9954, 9961, 10033, 10036, 10100, 10103, 10112, 10154, 10164, 10193, 10202, 10248, 10259, 10278, 10336, 10350, 10384, 10438, 10446, 10456, 10458, 10482, 10493, 10529, 10541, 10575, 10590, 10605, 10665, 10682, 10704, 10732, 10761, 10876, 10884, 10918, 10923, 10929, 11011, 11015, 11031, 11056, 11069, 11113, 11132, 11138, 11146, 11167, 11168, 11197, 11199, 11206, 11219, 11242, 11260, 11269, 11275, 11336, 11377, 11428, 11472, 11476, 11526, 11546, 11605, 11611, 11622, 11625, 11659, 11672, 11683, 11684, 11686, 11690, 11720, 11827, 11853, 11871, 11896, 11950, 12003, 12006, 12014, 12058, 12100, 12114, 12176, 12206, 12280, 12445, 12451, 12520, 12539, 12549, 12594, 12599, 12600, 12620, 12637, 12647, 12679, 12707, 12721, 12765, 12810, 12895, 12919, 12939, 12967, 13039, 13043, 13063, 13067, 13081, 13162, 13168, 13179, 13183, 13187, 13211, 13233, 13237, 13266, 13276, 13321, 13329, 13330, 13351, 13365, 13541, 13576, 13596, 13658, 13664, 13667, 13671, 13678, 13684, 13689, 13756, 13762, 13764, 13781, 13786, 13789, 13793, 13797, 13801, 13837, 13920, 13925, 13966, 13994, 14045, 14060, 14100, 14139, 14155, 14167, 14175, 14199, 14200, 14262, 14329, 14336, 14357, 14382, 14412, 14424, 14440, 14482, 14486, 14518, 14543, 14578, 14579, 14633, 14638, 14646, 14672, 14679, 14698, 14708, 14889, 14905, 14918, 14920, 14932, 14935, 14960, 14971, 15034, 15080, 15129, 15134, 15146, 15179, 15195, 15244, 15250, 15270, 15290, 15293, 15303, 15333, 15360, 15365, 15456, 15458, 15471, 15542, 15543, 15554, 15562, 15571, 15794, 15803, 15809, 15874, 15876, 15884, 15916, 15931, 15936, 15965, 16010, 16028, 16043, 16062, 16064, 16178, 16208, 16250, 16275, 16287, 16327, 16336, 16373, 16403, 16425, 16457, 16458, 16483, 16597, 16645, 16649, 16669, 16717, 16724, 16761, 16829, 16922, 16930, 16976, 17018, 17055, 17058, 17074, 17101, 17107, 17110, 17139, 17157, 17160, 17173, 17181, 17190, 17195, 17209, 17223, 17269, 17372, 17376, 17411, 17430, 17432, 17443, 17453, 17491, 17496, 17530, 17534, 17537, 17551, 17588, 17607, 17609, 17632, 17636, 17640, 17676, 17678, 17765, 17777, 17806, 17821, 17862, 17901, 17903, 17925, 17944, 17954, 17963, 18014, 18054, 18075, 18091, 18114, 18115, 18142, 18239, 18257, 18271, 18296, 18323, 18337, 18392, 18394, 18431, 18438, 18469, 18513, 18536, 18555, 18559, 18587, 18609, 18615, 18631, 18632, 18637, 18695, 18696, 18719, 18763, 18806, 18809, 18814, 18815, 18821, 18849, 18851, 18877, 18878, 18888, 18892, 18894, 18927, 18936, 18983, 19018, 19019, 19023, 19083, 19093, 19114, 19129, 19151, 19164, 19212, 19224, 19259, 19265, 19294, 19302, 19306, 19318, 19410, 19440, 19514, 19532, 19546, 19577, 19589, 19596, 19603, 19648, 19660, 19690, 19700, 19749, 19766, 19839, 19886, 19902, 19911, 19922, 19938, 19949, 19967, 19970, 19989, 19991, 20118, 20134, 20163, 20173, 20193, 20201, 20202, 20204, 20298, 20304, 20306, 20312, 20330, 20346, 20348, 20453, 20501, 20529, 20538, 20540, 20543, 20545, 20551, 20592, 20593, 20630, 20636, 20651, 20654, 20689, 20751, 20861, 20878, 20929, 20940, 20962, 20963, 20966, 21021, 21025, 21044, 21090, 21091, 21093, 21154, 21181, 21199, 21222, 21255, 21303, 21329, 21404, 21466, 21496, 21506, 21508, 21611, 21642, 21707, 21733, 21748, 21753, 21756, 21826, 21856, 21947, 21952, 22025, 22071, 22082, 22113, 22145, 22173, 22184, 22200, 22204, 22206, 22257, 22305, 22313, 22348, 22369, 22379, 22428, 22445, 22495, 22514, 22542, 22639, 22644, 22646, 22685, 22753, 22819, 22858, 22877, 22886, 22918, 22932, 22994, 23007, 23023, 23043, 23045, 23066, 23067, 23093, 23128, 23241, 23245, 23246, 23327, 23333, 23341, 23372, 23375, 23391, 23407, 23469, 23538, 23567, 23582, 23656, 23687, 23692, 23711, 23713, 23722, 23777, 23788, 23833, 23883, 23891, 24003]\n",
            " \n",
            "Enter the index corresponding to the likely delinquent person from the delinquent_index array: 1065\n",
            " \n",
            "Person 1065 is likely to default as predicted delinquency score of 0.517001748085022 is greater than 0.4\n",
            "Person 1065 can reduce chances of serious delinquency by taking care of the features: [5 6 9]\n"
          ]
        }
      ],
      "source": [
        "print(\"Features of Interest:\\n 2 = RevolvingUtilizationOfUnsecuredLines;\\n  4 = DebtRatio;\\n  5 = MonthlyIncome;\\n  6 = NumberOfOpenCreditLinesAndLoans;\\n  7 = NumberRealEstateLoansOrLines;\\n 9 = NumberOfTimeLate\")\n",
        "print(\" \")\n",
        "\n",
        "for i in range(len(y_pred)):\n",
        "  if y_pred[i][1] >= thresh:\n",
        "    delinquent_index.append(i)\n",
        "\n",
        "print(len(delinquent_index))\n",
        "print(\"Delinquent Index: People from test data prone to delinquency based on XGBoost\")\n",
        "print(delinquent_index)\n",
        "print(\" \")\n",
        "\n",
        "\n",
        "comb = combinations([2, 4, 5, 6, 7, 9], 3)\n",
        "\n",
        "j=[]\n",
        "k=[]\n",
        "person = input('Enter the index corresponding to the likely delinquent person from the delinquent_index array: ')\n",
        "person = int(person)\n",
        "\n",
        "for i in comb:\n",
        "  X_subset=df_scale[:,[i[0],i[1],i[2]]]\n",
        "  reg_temp = XGBClassifier(tree_method='hist', device = 'cuda')\n",
        "  X_train_subset, X_test_subset, y_train_subset, y_test_subset = train_test_split(X_subset,y,\n",
        "                                    random_state=14,\n",
        "                                    test_size=0.2,\n",
        "                                    shuffle=True)\n",
        "  reg_temp.fit(X_train_subset,y_train_subset)\n",
        "  #print((reg_temp.predict_proba(X_subset)[person] ) )\n",
        "  j.append((reg_temp.predict_proba(X_test_subset)[person])[1])\n",
        "  k.append(i)\n",
        "\n",
        "\n",
        "print(\" \")\n",
        "print(f\"Person {person} is likely to default as predicted delinquency score of {np.max(np.array(j))} is greater than {thresh}\")\n",
        "print(f\"Person {person} can reduce chances of serious delinquency by taking care of the features: {np.array(k)[np.argmax(np.array(j))]}\")"
      ]
    },
    {
      "cell_type": "code",
      "source": [],
      "metadata": {
        "id": "d5V6MOlM9Unb"
      },
      "execution_count": 8,
      "outputs": []
    }
  ],
  "metadata": {
    "colab": {
      "provenance": [],
      "gpuType": "T4"
    },
    "kernelspec": {
      "display_name": "Python 3",
      "name": "python3"
    },
    "language_info": {
      "name": "python"
    },
    "accelerator": "GPU"
  },
  "nbformat": 4,
  "nbformat_minor": 0
}
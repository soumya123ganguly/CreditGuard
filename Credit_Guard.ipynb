{
 "cells": [
  {
   "cell_type": "markdown",
   "metadata": {
    "id": "zDDrEeT1BFbx"
   },
   "source": [
    "# Credit Risk Assessment\n",
    "\n",
    "### Description of our project in couple of sentences:\n"
   ]
  },
  {
   "cell_type": "code",
   "execution_count": 1,
   "metadata": {
    "id": "iDtATENEBcTH"
   },
   "outputs": [],
   "source": [
    "#Importing Python libraries\n",
    "\n",
    "import pandas as pd\n",
    "import numpy as np\n",
    "from matplotlib import pyplot as plt\n",
    "from sklearn.linear_model import LinearRegression\n",
    "from sklearn.model_selection import train_test_split, GridSearchCV, RandomizedSearchCV\n",
    "from sklearn.metrics import mean_squared_error, make_scorer"
   ]
  },
  {
   "cell_type": "markdown",
   "metadata": {
    "id": "oyxcOOKfNO3W"
   },
   "source": [
    "## Importing Data"
   ]
  },
  {
   "cell_type": "markdown",
   "metadata": {},
   "source": [
    "The data we are using is from the following Kaggle competition: [Give Me Some Credit](https://www.kaggle.com/competitions/GiveMeSomeCredit/data). "
   ]
  },
  {
   "cell_type": "code",
   "execution_count": 2,
   "metadata": {},
   "outputs": [
    {
     "data": {
      "text/plain": [
       "(150000, 12)"
      ]
     },
     "execution_count": 2,
     "metadata": {},
     "output_type": "execute_result"
    }
   ],
   "source": [
    "path = './data/cs-training.csv'\n",
    "df = pd.read_csv(path)\n",
    "df.shape"
   ]
  },
  {
   "cell_type": "markdown",
   "metadata": {},
   "source": [
    "## Cleaning and Analyzing Data"
   ]
  },
  {
   "cell_type": "code",
   "execution_count": 3,
   "metadata": {},
   "outputs": [
    {
     "data": {
      "text/plain": [
       "Index(['ID', 'SeriousDlqin2yrs', 'RevolvingUtilizationOfUnsecuredLines', 'age',\n",
       "       'NumberOfTime30-59DaysPastDueNotWorse', 'DebtRatio', 'MonthlyIncome',\n",
       "       'NumberOfOpenCreditLinesAndLoans', 'NumberOfTimes90DaysLate',\n",
       "       'NumberRealEstateLoansOrLines', 'NumberOfTime60-89DaysPastDueNotWorse',\n",
       "       'NumberOfDependents'],\n",
       "      dtype='object')"
      ]
     },
     "execution_count": 3,
     "metadata": {},
     "output_type": "execute_result"
    }
   ],
   "source": [
    "# rename the first unnamed column to ID\n",
    "df.rename(columns={'Unnamed: 0':'ID'}, inplace=True)\n",
    "\n",
    "df.columns"
   ]
  },
  {
   "cell_type": "markdown",
   "metadata": {},
   "source": [
    "### NA values"
   ]
  },
  {
   "cell_type": "code",
   "execution_count": 4,
   "metadata": {
    "colab": {
     "base_uri": "https://localhost:8080/"
    },
    "id": "0BV9FgY3p8sK",
    "outputId": "9964d700-769c-4568-a6ad-31ebc0a3d991"
   },
   "outputs": [
    {
     "data": {
      "text/plain": [
       "ID                                          0\n",
       "SeriousDlqin2yrs                            0\n",
       "RevolvingUtilizationOfUnsecuredLines        0\n",
       "age                                         0\n",
       "NumberOfTime30-59DaysPastDueNotWorse        0\n",
       "DebtRatio                                   0\n",
       "MonthlyIncome                           29731\n",
       "NumberOfOpenCreditLinesAndLoans             0\n",
       "NumberOfTimes90DaysLate                     0\n",
       "NumberRealEstateLoansOrLines                0\n",
       "NumberOfTime60-89DaysPastDueNotWorse        0\n",
       "NumberOfDependents                       3924\n",
       "dtype: int64"
      ]
     },
     "execution_count": 4,
     "metadata": {},
     "output_type": "execute_result"
    }
   ],
   "source": [
    "df.isnull().sum()"
   ]
  },
  {
   "cell_type": "code",
   "execution_count": 5,
   "metadata": {
    "colab": {
     "base_uri": "https://localhost:8080/"
    },
    "id": "Y_WbzkH6axBy",
    "outputId": "f0206f5d-df11-450f-e7e6-8cae73522d1d"
   },
   "outputs": [
    {
     "name": "stdout",
     "output_type": "stream",
     "text": [
      "After dropping NA, size of df = (120269, 12)\n"
     ]
    }
   ],
   "source": [
    "# drop NA\n",
    "df.dropna(inplace=True)\n",
    "print(\"After dropping NA, size of df =\",df.shape)"
   ]
  },
  {
   "cell_type": "markdown",
   "metadata": {
    "id": "f49lR7q5xZGc"
   },
   "source": [
    "### Age Analysis"
   ]
  },
  {
   "cell_type": "code",
   "execution_count": 6,
   "metadata": {
    "colab": {
     "base_uri": "https://localhost:8080/"
    },
    "id": "xs-sDPyWuYxF",
    "outputId": "63d08f5e-73dd-4ec5-b2dd-fcc0f51b4bb2"
   },
   "outputs": [
    {
     "data": {
      "text/plain": [
       "count    120269.000000\n",
       "mean         51.289792\n",
       "std          14.426684\n",
       "min           0.000000\n",
       "25%          40.000000\n",
       "50%          51.000000\n",
       "75%          61.000000\n",
       "max         103.000000\n",
       "Name: age, dtype: float64"
      ]
     },
     "execution_count": 6,
     "metadata": {},
     "output_type": "execute_result"
    }
   ],
   "source": [
    "df['age'].describe()"
   ]
  },
  {
   "cell_type": "code",
   "execution_count": 7,
   "metadata": {
    "id": "CdfkIQiOpoIB"
   },
   "outputs": [],
   "source": [
    "# deleting age = 0 rows\n",
    "df = df[df.age != 0]"
   ]
  },
  {
   "cell_type": "code",
   "execution_count": 8,
   "metadata": {
    "colab": {
     "base_uri": "https://localhost:8080/"
    },
    "id": "HQLl4JPGtudd",
    "outputId": "dea4a041-5fdb-476b-cfb2-4c6507a9a1a5"
   },
   "outputs": [
    {
     "data": {
      "text/plain": [
       "count    120268.000000\n",
       "mean         51.290219\n",
       "std          14.425986\n",
       "min          21.000000\n",
       "25%          40.000000\n",
       "50%          51.000000\n",
       "75%          61.000000\n",
       "max         103.000000\n",
       "Name: age, dtype: float64"
      ]
     },
     "execution_count": 8,
     "metadata": {},
     "output_type": "execute_result"
    }
   ],
   "source": [
    "df['age'].describe()\n",
    "# there was only 1 row with age = 0"
   ]
  },
  {
   "cell_type": "code",
   "execution_count": 10,
   "metadata": {
    "colab": {
     "base_uri": "https://localhost:8080/",
     "height": 54
    },
    "id": "mfkdRHvRzR0X",
    "outputId": "a0d46232-ace2-48ce-9899-1a480f14a5f9",
    "scrolled": false
   },
   "outputs": [
    {
     "data": {
      "image/png": "[encoded data removed]",
      "text/plain": [
       "<Figure size 576x432 with 1 Axes>"
      ]
     },
     "metadata": {
      "needs_background": "light"
     },
     "output_type": "display_data"
    }
   ],
   "source": [
    "x = df['ID']\n",
    "y = df['age']\n",
    "fig = plt.figure(figsize=(8,6))\n",
    "\n",
    "plt.xlabel(\"ID\")\n",
    "plt.ylabel(\"Age\")\n",
    "plt.scatter(x,y,marker='.')\n",
    "plt.show()"
   ]
  },
  {
   "cell_type": "code",
   "execution_count": 11,
   "metadata": {
    "colab": {
     "base_uri": "https://localhost:8080/"
    },
    "id": "QYC-d01S56Q1",
    "outputId": "c830a6f4-3c84-4443-dc22-abb3ba9dcb47"
   },
   "outputs": [
    {
     "data": {
      "text/plain": [
       "count      82.000000\n",
       "mean     1466.682927\n",
       "std      1108.994817\n",
       "min         2.000000\n",
       "25%       320.000000\n",
       "50%      1396.000000\n",
       "75%      2642.000000\n",
       "max      3217.000000\n",
       "Name: count, dtype: float64"
      ]
     },
     "execution_count": 11,
     "metadata": {},
     "output_type": "execute_result"
    }
   ],
   "source": [
    "agedata = df['age'].value_counts().sort_index()\n",
    "agedata.describe()"
   ]
  },
  {
   "cell_type": "code",
   "execution_count": 12,
   "metadata": {
    "colab": {
     "base_uri": "https://localhost:8080/",
     "height": 1000
    },
    "id": "Cy8RlxLG2ksr",
    "outputId": "50f6e64e-d149-414f-8711-54ca7c9e97ee"
   },
   "outputs": [
    {
     "data": {
      "text/plain": [
       "(array([0.000e+00, 0.000e+00, 0.000e+00, 0.000e+00, 0.000e+00, 0.000e+00,\n",
       "        0.000e+00, 9.740e+02, 2.461e+03, 3.943e+03, 5.261e+03, 5.754e+03,\n",
       "        6.479e+03, 7.871e+03, 8.204e+03, 9.220e+03, 9.485e+03, 8.926e+03,\n",
       "        8.496e+03, 7.975e+03, 7.943e+03, 7.002e+03, 5.322e+03, 3.925e+03,\n",
       "        3.378e+03, 2.474e+03, 2.067e+03, 1.290e+03, 8.670e+02, 5.820e+02,\n",
       "        2.520e+02, 8.900e+01, 1.900e+01, 5.000e+00, 4.000e+00]),\n",
       " array([  0.,   3.,   6.,   9.,  12.,  15.,  18.,  21.,  24.,  27.,  30.,\n",
       "         33.,  36.,  39.,  42.,  45.,  48.,  51.,  54.,  57.,  60.,  63.,\n",
       "         66.,  69.,  72.,  75.,  78.,  81.,  84.,  87.,  90.,  93.,  96.,\n",
       "         99., 102., 105.]),\n",
       " <BarContainer object of 35 artists>)"
      ]
     },
     "execution_count": 12,
     "metadata": {},
     "output_type": "execute_result"
    },
    {
     "data": {
      "image/png": "[encoded data removed]",
      "text/plain": [
       "<Figure size 432x288 with 1 Axes>"
      ]
     },
     "metadata": {
      "needs_background": "light"
     },
     "output_type": "display_data"
    }
   ],
   "source": [
    "plt.hist(y, bins=[3*i for i in range(36)])"
   ]
  },
  {
   "cell_type": "markdown",
   "metadata": {
    "id": "i0euzEk_Ftcz"
   },
   "source": [
    "### DebtRatio Analysis\n",
    "\n",
    "Maybe remove extremely high DebtRatios (threshold > 100?)"
   ]
  },
  {
   "cell_type": "code",
   "execution_count": null,
   "metadata": {
    "colab": {
     "base_uri": "https://localhost:8080/",
     "height": 54
    },
    "id": "NsmoUM1FO-6F",
    "outputId": "c8374c0f-d668-4c5c-b197-e61516325d58"
   },
   "outputs": [],
   "source": [
    "x = df['ID']\n",
    "y_db = df['DebtRatio']\n",
    "fig = plt.figure(figsize=(8,6))\n",
    "\n",
    "plt.scatter(x,y_db,marker='.')\n",
    "plt.show()"
   ]
  },
  {
   "cell_type": "code",
   "execution_count": null,
   "metadata": {
    "colab": {
     "base_uri": "https://localhost:8080/",
     "height": 54
    },
    "id": "RzV_0Wn6OcEp",
    "outputId": "88009647-0fe7-4b88-922f-2346a61a22d7"
   },
   "outputs": [],
   "source": [
    "x = df['MonthlyIncome']\n",
    "y_db = df['DebtRatio']\n",
    "fig = plt.figure(figsize=(8,6))\n",
    "\n",
    "plt.scatter(x,y_db,marker='.')\n",
    "plt.show()"
   ]
  },
  {
   "cell_type": "markdown",
   "metadata": {
    "id": "IcLD8KadHTJ0"
   },
   "source": [
    "# DebtRatio Outliers\n",
    "\n",
    "Based on Box Plots & Statistics (Higher bound: Q3+ 1.5*(Q3-Q1)), DebtRatio > 1.3 are mostly outliers. So we removed them."
   ]
  },
  {
   "cell_type": "code",
   "execution_count": null,
   "metadata": {
    "colab": {
     "base_uri": "https://localhost:8080/"
    },
    "id": "5S49fVkVO4cn",
    "outputId": "c76f7080-8b13-45f5-b21b-11e494d482c4"
   },
   "outputs": [],
   "source": [
    "# we need to remove the outliers for debt ratio but this is not the same as deleting rows with monthly income 0\n",
    "#df=df[df['DebtRatio']<=13000]\n",
    "df=df[df['DebtRatio']<=1.5]\n",
    "df.shape # 18 entries got removed"
   ]
  },
  {
   "cell_type": "code",
   "execution_count": null,
   "metadata": {
    "colab": {
     "base_uri": "https://localhost:8080/",
     "height": 73
    },
    "id": "5Naxshq33UEp",
    "outputId": "833719b0-95ac-4d1c-f377-24a88a2e8f4f"
   },
   "outputs": [],
   "source": [
    "plt.hist(y_db[y_db<1])#, bins=[0.01*i for i in range(1)])\n",
    "#plt.xlabel(\"Age (years)\")\n",
    "print(len(y_db[y_db>100]))"
   ]
  },
  {
   "cell_type": "markdown",
   "metadata": {
    "id": "8NUSFtAG3WBL"
   },
   "source": [
    "Try bins for age and the # NumberOfTime30-59DaysPastDueNotWorse and #NumberOfTime60-89DaysPastDueNotWorse in two graphs (or one if possible). [Using groupby]"
   ]
  },
  {
   "cell_type": "markdown",
   "metadata": {
    "id": "QKbPweuVxnHW"
   },
   "source": [
    "## Monthly Income Analysis"
   ]
  },
  {
   "cell_type": "code",
   "execution_count": null,
   "metadata": {
    "colab": {
     "base_uri": "https://localhost:8080/"
    },
    "id": "lSJkXZL9t6DN",
    "outputId": "3bc4cff0-cc4b-4114-bc19-22a71e4f12ad"
   },
   "outputs": [],
   "source": [
    "df['MonthlyIncome'].describe()"
   ]
  },
  {
   "cell_type": "code",
   "execution_count": null,
   "metadata": {
    "colab": {
     "base_uri": "https://localhost:8080/",
     "height": 54
    },
    "id": "f8j5qIXPxvtP",
    "outputId": "5e6fd702-fbbe-4e0d-aa24-6da281d4b979"
   },
   "outputs": [],
   "source": [
    "x = df['ID']\n",
    "y_db = df['MonthlyIncome']\n",
    "fig = plt.figure(figsize=(8,6))\n",
    "\n",
    "plt.scatter(x,y_db,marker='.')\n",
    "plt.show()"
   ]
  },
  {
   "cell_type": "code",
   "execution_count": null,
   "metadata": {
    "colab": {
     "base_uri": "https://localhost:8080/"
    },
    "id": "DvqEp_T-RFv1",
    "outputId": "bb93f032-c4fd-4899-d141-8431545fb48c"
   },
   "outputs": [],
   "source": [
    "# for a better model, we will cut off the income by 200,000\n",
    "df=df[df['MonthlyIncome']<=200000]\n",
    "df.shape # only 29 entries got removed"
   ]
  },
  {
   "cell_type": "code",
   "execution_count": null,
   "metadata": {
    "colab": {
     "base_uri": "https://localhost:8080/",
     "height": 54
    },
    "id": "knG_pk1K6Q0v",
    "outputId": "1c520aee-30bf-4ad9-9f32-90fa67f64f8d"
   },
   "outputs": [],
   "source": [
    "x = df['ID']\n",
    "y_db = df['MonthlyIncome']\n",
    "fig = plt.figure(figsize=(8,6))\n",
    "\n",
    "plt.scatter(x,y_db,marker='.')\n",
    "plt.show()"
   ]
  },
  {
   "cell_type": "markdown",
   "metadata": {
    "id": "cf6kJGk3SlYX"
   },
   "source": [
    "### Number of Dependents Analysis"
   ]
  },
  {
   "cell_type": "code",
   "execution_count": null,
   "metadata": {
    "colab": {
     "base_uri": "https://localhost:8080/",
     "height": 54
    },
    "id": "9w1WrRF1ScZz",
    "outputId": "6ed53993-d956-4692-f197-43d887328278"
   },
   "outputs": [],
   "source": [
    "x = df['ID']\n",
    "y_db = df['NumberOfDependents']\n",
    "fig = plt.figure(figsize=(8,6))\n",
    "\n",
    "plt.scatter(x,y_db,marker='.')\n",
    "plt.show()"
   ]
  },
  {
   "cell_type": "code",
   "execution_count": null,
   "metadata": {
    "colab": {
     "base_uri": "https://localhost:8080/",
     "height": 54
    },
    "id": "pHwLyCzoScQ9",
    "outputId": "ac9366f5-e761-4c9c-cce0-b0bed2e9f677"
   },
   "outputs": [],
   "source": [
    "x = df['MonthlyIncome']\n",
    "y_db = df['NumberOfDependents']\n",
    "fig = plt.figure(figsize=(8,6))\n",
    "\n",
    "plt.scatter(x,y_db,marker='.')\n",
    "plt.show()"
   ]
  },
  {
   "cell_type": "code",
   "execution_count": null,
   "metadata": {
    "colab": {
     "base_uri": "https://localhost:8080/"
    },
    "id": "N_qHm9ZtTT4K",
    "outputId": "9499ab69-b8cc-4b27-c6c0-200412822ea6"
   },
   "outputs": [],
   "source": [
    "# for a better model, we will cut off the Number of Dependents by 10\n",
    "df=df[df['NumberOfDependents']<=10]\n",
    "df.shape # only 2 entries got removed"
   ]
  },
  {
   "cell_type": "markdown",
   "metadata": {
    "id": "IFMXEJSYUGYr"
   },
   "source": [
    "### RevolvingUtilizationOfUnsecuredLines Analysis"
   ]
  },
  {
   "cell_type": "code",
   "execution_count": null,
   "metadata": {
    "colab": {
     "base_uri": "https://localhost:8080/",
     "height": 54
    },
    "id": "FY5BA07mTruX",
    "outputId": "19f52bb8-d73f-4ab7-d633-4af27941effc"
   },
   "outputs": [],
   "source": [
    "x = df['ID']\n",
    "y_db = df['RevolvingUtilizationOfUnsecuredLines']\n",
    "fig = plt.figure(figsize=(8,6))\n",
    "\n",
    "plt.scatter(x,y_db,marker='.')\n",
    "plt.show()"
   ]
  },
  {
   "cell_type": "code",
   "execution_count": null,
   "metadata": {
    "colab": {
     "base_uri": "https://localhost:8080/",
     "height": 54
    },
    "id": "0srW4lrFVG_T",
    "outputId": "4c3c65c1-0411-4679-b3c6-49fd4876a0c1"
   },
   "outputs": [],
   "source": [
    "x = df['NumberOfOpenCreditLinesAndLoans']\n",
    "y_db = df['RevolvingUtilizationOfUnsecuredLines']\n",
    "fig = plt.figure(figsize=(8,6))\n",
    "\n",
    "plt.scatter(x,y_db,marker='.')\n",
    "plt.show()"
   ]
  },
  {
   "cell_type": "markdown",
   "metadata": {
    "id": "7ni5RKgNHvh4"
   },
   "source": [
    "# RevolvingUtilizationOfUnsecuredLines Outliers\n",
    "\n",
    "Based on Box Plots & Statistics (Higher bound: Q3+ 1.5*(Q3-Q1)), RevolvingUtilizationOfUnsecuredLines > 1.4 are mostly outliers. So we removed them."
   ]
  },
  {
   "cell_type": "code",
   "execution_count": null,
   "metadata": {
    "colab": {
     "base_uri": "https://localhost:8080/"
    },
    "id": "hU_MW_kpVxkv",
    "outputId": "ef31a842-cb2b-42c0-99e4-55adde69baa2"
   },
   "outputs": [],
   "source": [
    "# for a better model, we will cut off the RevolvingUtilizationOfUnsecuredLines by 12,500\n",
    "#df=df[df['RevolvingUtilizationOfUnsecuredLines']<=12500]\n",
    "df=df[df['RevolvingUtilizationOfUnsecuredLines']<=1.5]\n",
    "df.shape # ~30,000 entries got removed"
   ]
  },
  {
   "cell_type": "markdown",
   "metadata": {
    "id": "nPc_YVqIWXGb"
   },
   "source": [
    "### NumberOfOpenCreditLinesAndLoans Analysis"
   ]
  },
  {
   "cell_type": "code",
   "execution_count": null,
   "metadata": {
    "colab": {
     "base_uri": "https://localhost:8080/",
     "height": 54
    },
    "id": "U1lJ5auvWY7w",
    "outputId": "0f2d5b34-5ff3-4483-9171-6a8a2ac36737"
   },
   "outputs": [],
   "source": [
    "x = df['ID']\n",
    "y = df['NumberOfOpenCreditLinesAndLoans']\n",
    "fig = plt.figure(figsize=(8,6))\n",
    "\n",
    "plt.scatter(x,y,marker='.')\n",
    "plt.show()  # this looks ok"
   ]
  },
  {
   "cell_type": "code",
   "execution_count": null,
   "metadata": {
    "colab": {
     "base_uri": "https://localhost:8080/"
    },
    "id": "AoBSWaW-Wt4_",
    "outputId": "959bd6f1-93e1-49bc-c165-59ebefe4cc55"
   },
   "outputs": [],
   "source": [
    "df['NumberOfOpenCreditLinesAndLoans'].describe()"
   ]
  },
  {
   "cell_type": "markdown",
   "metadata": {
    "id": "KbKekRBQXHV-"
   },
   "source": [
    "### NumberRealEstateLoansOrLines analysis"
   ]
  },
  {
   "cell_type": "code",
   "execution_count": null,
   "metadata": {
    "colab": {
     "base_uri": "https://localhost:8080/",
     "height": 54
    },
    "id": "yiHSlCASXFxa",
    "outputId": "413ded55-da9e-4671-a3fc-cc8d789c8936"
   },
   "outputs": [],
   "source": [
    "x = df['ID']\n",
    "y = df['NumberRealEstateLoansOrLines']\n",
    "fig = plt.figure(figsize=(8,6))\n",
    "\n",
    "plt.scatter(x,y,marker='.')\n",
    "plt.show()"
   ]
  },
  {
   "cell_type": "code",
   "execution_count": null,
   "metadata": {
    "colab": {
     "base_uri": "https://localhost:8080/"
    },
    "id": "OCqMTxQBXFp8",
    "outputId": "a90a9908-eb7f-4274-bab5-57f08fca9a3b"
   },
   "outputs": [],
   "source": [
    "# for a better model, we will cut off the NumberRealEstateLoansOrLines by 30\n",
    "df=df[df['NumberRealEstateLoansOrLines']<=30]\n",
    "df.shape # only 2 entries got removed"
   ]
  },
  {
   "cell_type": "code",
   "execution_count": null,
   "metadata": {
    "colab": {
     "base_uri": "https://localhost:8080/",
     "height": 444
    },
    "id": "Kxbkff-GXFgv",
    "outputId": "2ed241ee-99b6-4cfd-cdcb-6951530fa8a5"
   },
   "outputs": [],
   "source": [
    "df\n",
    "#df_1 = df[df[\"NumberOfTime30-59DaysPastDueNotWorse\"]>1]\n",
    "#df_1[\"NumberOfTime30-59DaysPastDueNotWorse\"].describe()\n",
    "#df['RevolvingUtilizationOfUnsecuredLines'].max(), df['RevolvingUtilizationOfUnsecuredLines'].min()\n",
    "#df['DebtRatio'].max(), df['DebtRatio'].min()"
   ]
  },
  {
   "cell_type": "markdown",
   "metadata": {
    "id": "ZyeCn0vXGqId"
   },
   "source": [
    "#Exploratory Data Analysis\n",
    "\n",
    "## Tentative things to try (Ankur and Aravind's Woprkspace)\n",
    "\n",
    "\n",
    "*   Box plots\n",
    "*   Correlation Matrix\n",
    "*   Heat maps\n",
    "*   Corner plots\n",
    "*   Scatter plots\n",
    "\n",
    "\n"
   ]
  },
  {
   "cell_type": "markdown",
   "metadata": {
    "id": "2Q_BU3nByuSC"
   },
   "source": [
    "# Box Plots"
   ]
  },
  {
   "cell_type": "code",
   "execution_count": null,
   "metadata": {
    "id": "Z4g6RV1wGu4x"
   },
   "outputs": [],
   "source": [
    "min_age=df['age'].min()\n",
    "max_age=df['age'].max()\n",
    "intv_width=10\n",
    "\n",
    "#for"
   ]
  },
  {
   "cell_type": "code",
   "execution_count": null,
   "metadata": {
    "id": "CJ8ln4M9g_U0"
   },
   "outputs": [],
   "source": [
    "#Heat maps"
   ]
  },
  {
   "cell_type": "code",
   "execution_count": null,
   "metadata": {
    "id": "CSApa-_-hCoX"
   },
   "outputs": [],
   "source": [
    "#Corner plots"
   ]
  },
  {
   "cell_type": "markdown",
   "metadata": {
    "id": "EjYZo0Xwx7ud"
   },
   "source": [
    "# Correlation Matrix\n",
    "\n",
    "\n",
    "\n"
   ]
  },
  {
   "cell_type": "code",
   "execution_count": null,
   "metadata": {
    "colab": {
     "base_uri": "https://localhost:8080/",
     "height": 92
    },
    "id": "A6MMJ4taX9kI",
    "outputId": "d6c318e8-6a11-4e37-cd1a-d1077fcc0559"
   },
   "outputs": [],
   "source": [
    "#Correlation\n",
    "import seaborn as sns\n",
    "corr = df.corr()\n",
    "\n",
    "plt.figure(figsize=(12, 10))\n",
    "sns.heatmap(corr, annot=True, vmin=-1.0, cmap=\"mako\")"
   ]
  },
  {
   "cell_type": "code",
   "execution_count": null,
   "metadata": {
    "id": "-PVWTKQ55Nz9"
   },
   "outputs": [],
   "source": [
    "#sns.pairplot(df, vars=[\"age\",\n",
    "#                       \"NumberOfOpenCreditLinesAndLoans\",\n",
    "#                       \"MonthlyIncome\",\n",
    "#                       \"NumberRealEstateLoansOrLines\"])\n",
    "#plt.show()\n",
    "\n"
   ]
  },
  {
   "cell_type": "code",
   "execution_count": null,
   "metadata": {
    "id": "s82q-Ye9CdKu"
   },
   "outputs": [],
   "source": [
    "#df['RevolvingUtilizationOfUnsecuredLines'] = 1e+6*df['RevolvingUtilizationOfUnsecuredLines']\n",
    "#df['RevolvingUtilizationOfUnsecuredLines'].describe(), df['DebtRatio'].describe()\n",
    "\n",
    "#sns.pairplot(df, vars=[\"age\",\n",
    "#                       \"RevolvingUtilizationOfUnsecuredLines\"])\n",
    "#sns.pairplot(df, vars=[\"age\",\n",
    "#                       \"DebtRatio\"])"
   ]
  },
  {
   "cell_type": "code",
   "execution_count": null,
   "metadata": {
    "id": "UsPqLzdAg1b9"
   },
   "outputs": [],
   "source": [
    "# scatterplot for df\n",
    "#from pandas.plotting import scatter_matrix\n",
    "#scatter_matrix(df, figsize=(14,14), alpha=.9)\n",
    "\n",
    "#plt.show()"
   ]
  },
  {
   "cell_type": "markdown",
   "metadata": {
    "id": "NkoE1XQdvziU"
   },
   "source": [
    "#Soumya's Workspace"
   ]
  },
  {
   "cell_type": "code",
   "execution_count": null,
   "metadata": {
    "colab": {
     "base_uri": "https://localhost:8080/",
     "height": 226
    },
    "id": "qnB0i5Q4H00u",
    "outputId": "d7e9b80c-10b5-482d-c47e-442bec696c1a"
   },
   "outputs": [],
   "source": [
    "# first make a deep copy of the data\n",
    "df2=df.copy(deep=True)\n",
    "# standardization of columns (subtract mean and divide by variance)\n",
    "## import StandardScaler\n",
    "from sklearn.preprocessing import StandardScaler\n",
    "## Make a scaler object : i.e. the StandardScaler object below which will know what to do make the standardization in the way we want\n",
    "scaler=StandardScaler()\n",
    "\n",
    "## fit the scaler : calling 'fit' means, the case of standardizing here, knowing the columns and the mean, standard deviation of the each of the columns\n",
    "scaler.fit(df2)\n",
    "\n",
    "df2.head()\n"
   ]
  },
  {
   "cell_type": "code",
   "execution_count": null,
   "metadata": {
    "colab": {
     "base_uri": "https://localhost:8080/"
    },
    "id": "7g2MDHNhkrLm",
    "outputId": "9e48d3a5-0903-4459-d8b3-0e0855bb40b6"
   },
   "outputs": [],
   "source": [
    "df_scale =scaler.transform(df2)\n",
    "\n",
    "print(np.size(df2[df2[\"SeriousDlqin2yrs\"]==1]),np.size(df2[df2[\"SeriousDlqin2yrs\"]==0]))"
   ]
  },
  {
   "cell_type": "code",
   "execution_count": null,
   "metadata": {
    "colab": {
     "base_uri": "https://localhost:8080/"
    },
    "id": "brA6p4kgmRpg",
    "outputId": "1ae8f0b1-312f-4fb3-a835-dbad97c2e4c8"
   },
   "outputs": [],
   "source": [
    "for i in range (12):\n",
    "  print(f\"mean of standardized {i} th column of df:\",np.mean(df_scale[:,i]))\n",
    "  print(f\"variance of standardized {i} th column of df:\",np.var(df_scale[:,i]))\n",
    "  print()"
   ]
  },
  {
   "cell_type": "code",
   "execution_count": null,
   "metadata": {
    "colab": {
     "base_uri": "https://localhost:8080/"
    },
    "id": "7Kh3WEW6oezw",
    "outputId": "cc4d8354-aa7e-4c36-fc36-f6e74d09b4e2"
   },
   "outputs": [],
   "source": [
    "df_scale\n",
    "\n",
    "df_scale.shape\n",
    "\n",
    "df_scale[:,1]\n",
    "\n",
    "df_scale"
   ]
  },
  {
   "cell_type": "markdown",
   "metadata": {
    "id": "EMjaNNXBEHE0"
   },
   "source": [
    "## Model without normalizing the Serious Delinqu...column"
   ]
  },
  {
   "cell_type": "code",
   "execution_count": null,
   "metadata": {
    "id": "WilgvDpWqxB0"
   },
   "outputs": [],
   "source": [
    "# creating an array with the scaled regression quantities we care about:\n",
    "\n",
    "X=df_scale[:,3:12]\n",
    "\n"
   ]
  },
  {
   "cell_type": "code",
   "execution_count": null,
   "metadata": {
    "colab": {
     "base_uri": "https://localhost:8080/"
    },
    "id": "h8-gXsdDnB1j",
    "outputId": "c247bf00-1beb-4fd7-b63d-74b3d7d1e019"
   },
   "outputs": [],
   "source": [
    "# Linear Regression with standardized data\n",
    "\n",
    "# we fit  the column of 'Serious Delinquencies in 2 years' of df2 with all the standardized columns starting from age in df_scale. We do train_test split and then calculate the MSE\n",
    "\n",
    "\n",
    "\n",
    "reg = LinearRegression(copy_X=True, fit_intercept=True)\n",
    "\n",
    "y=df2['SeriousDlqin2yrs']\n",
    "\n",
    "\n",
    "X_train, X_test, y_train, y_test = train_test_split(X,y ,\n",
    "                                   random_state=14,\n",
    "                                   test_size=0.2,\n",
    "                                   shuffle=True)\n",
    "reg.fit(X_train,y_train)\n"
   ]
  },
  {
   "cell_type": "code",
   "execution_count": null,
   "metadata": {
    "colab": {
     "base_uri": "https://localhost:8080/"
    },
    "id": "cqZ02T3iu4pY",
    "outputId": "c579ceb3-96fe-4a78-c60d-91bd3fde245f"
   },
   "outputs": [],
   "source": [
    "reg.coef_"
   ]
  },
  {
   "cell_type": "code",
   "execution_count": null,
   "metadata": {
    "colab": {
     "base_uri": "https://localhost:8080/"
    },
    "id": "t_Zqvl2Cvlzh",
    "outputId": "1b0d5f0a-b93a-4ed8-d0d1-e8e927bc2e44"
   },
   "outputs": [],
   "source": [
    "# for train set\n",
    "plt.figure(figsize=(8,4))\n",
    "\n",
    "plt.scatter(y_train, y_train - np.around(reg.predict(X_train)))\n",
    "\n",
    "plt.xlabel(\"$y$\", fontsize=12)\n",
    "plt.ylabel(\"$y - \\hat{y} $\", fontsize=12)\n",
    "plt.xticks(fontsize=12)\n",
    "plt.yticks(fontsize=12)\n",
    "\n",
    "plt.show()"
   ]
  },
  {
   "cell_type": "code",
   "execution_count": null,
   "metadata": {
    "colab": {
     "base_uri": "https://localhost:8080/"
    },
    "id": "UF8y7pXEICji",
    "outputId": "16664826-ea18-49d2-80e0-31092cd83991"
   },
   "outputs": [],
   "source": [
    "# for test set\n",
    "\n",
    "plt.figure(figsize=(8,4))\n",
    "\n",
    "plt.scatter(y_test, y_test - np.around(reg.predict(X_test)))\n",
    "\n",
    "plt.xlabel(\"$y$\", fontsize=12)\n",
    "plt.ylabel(\"$y - \\hat{y} $\", fontsize=12)\n",
    "plt.xticks(fontsize=12)\n",
    "plt.yticks(fontsize=12)\n",
    "\n",
    "plt.show()"
   ]
  },
  {
   "cell_type": "code",
   "execution_count": null,
   "metadata": {
    "colab": {
     "base_uri": "https://localhost:8080/"
    },
    "id": "jHEY0_S6xtuO",
    "outputId": "537a7cae-dc29-4e60-cf90-11c0794c3e7d"
   },
   "outputs": [],
   "source": [
    "np.around(reg.predict(X)).size"
   ]
  },
  {
   "cell_type": "code",
   "execution_count": null,
   "metadata": {
    "colab": {
     "base_uri": "https://localhost:8080/"
    },
    "id": "Ofkj0I5exPZz",
    "outputId": "f819fd86-b604-4676-cc1e-c0daf5886001"
   },
   "outputs": [],
   "source": [
    "# MSE calculation for test set\n",
    "\n",
    "mean_squared_error(y_test, np.around(reg.predict(X_test)), squared=False)  # squarred false means it will do a squareroot of MSE in the end"
   ]
  },
  {
   "cell_type": "code",
   "execution_count": null,
   "metadata": {
    "colab": {
     "base_uri": "https://localhost:8080/"
    },
    "id": "7HH3fceiy4ry",
    "outputId": "80344f00-684c-443a-f929-40984f9fcfcf"
   },
   "outputs": [],
   "source": [
    "# The same with Ridge ($L^2$) regularization\n",
    "from sklearn import linear_model\n",
    "reg2 = linear_model.Ridge(alpha=0.5, fit_intercept=True, copy_X=True)\n",
    "reg2.fit(X_train, y_train)\n",
    "reg2.coef_"
   ]
  },
  {
   "cell_type": "code",
   "execution_count": null,
   "metadata": {
    "colab": {
     "base_uri": "https://localhost:8080/"
    },
    "id": "5h6wi4w8zn2g",
    "outputId": "556035e3-1f5d-47b7-eb5f-c7175e2cd4db"
   },
   "outputs": [],
   "source": [
    "# MSE with ridge regularization with alpha = 0.5\n",
    "mean_squared_error(y_test, np.around(reg2.predict(X_test)), squared=False)"
   ]
  },
  {
   "cell_type": "markdown",
   "metadata": {
    "id": "Lxj_6YpyOGl_"
   },
   "source": [
    "## Aravind's Workspace"
   ]
  },
  {
   "cell_type": "code",
   "execution_count": null,
   "metadata": {
    "colab": {
     "base_uri": "https://localhost:8080/"
    },
    "id": "LSrj2MPCOKOk",
    "outputId": "9077b330-5b67-45f8-8564-7a054ea60d93"
   },
   "outputs": [],
   "source": [
    "# first make a deep copy of the data\n",
    "df2=df.copy(deep=True)\n",
    "# standardization of columns (subtract mean and divide by variance)\n",
    "\n",
    "\n",
    "from sklearn.preprocessing import StandardScaler\n",
    "## Make a scaler object : i.e. the StandardScaler object below which will know what to do make the standardization in the way we want\n",
    "scaler=StandardScaler()\n",
    "\n",
    "## fit the scaler : calling 'fit' means, the case of standardizing here, knowing the columns and the mean, standard deviation of the each of the columns\n",
    "scaler.fit(df2)\n",
    "\n",
    "\n",
    "df_scale\n",
    "\n",
    "df_scale.shape\n",
    "\n",
    "df_scale[:,1]\n",
    "\n",
    "df_scale\n"
   ]
  },
  {
   "cell_type": "code",
   "execution_count": null,
   "metadata": {
    "colab": {
     "base_uri": "https://localhost:8080/"
    },
    "id": "eS7yOPG96VTZ",
    "outputId": "26c8fcec-3b2c-4cac-9480-caf7f564962c"
   },
   "outputs": [],
   "source": [
    "from itertools import combinations\n",
    "\n",
    "comb = combinations(np.arange(3,12), 3)\n",
    "\n",
    "for i in comb:\n",
    "  print(i)"
   ]
  },
  {
   "cell_type": "markdown",
   "metadata": {
    "id": "mqrMLQj6qMqT"
   },
   "source": []
  },
  {
   "cell_type": "code",
   "execution_count": null,
   "metadata": {
    "colab": {
     "base_uri": "https://localhost:8080/"
    },
    "id": "GpUvJ3Y5Oqzk",
    "outputId": "daf15732-ee11-4998-87bc-a3ce80a3218a"
   },
   "outputs": [],
   "source": [
    "# creating an array with the scaled regression quantities we care about (84 iterations - 9C3)):\n",
    "\n",
    "from itertools import combinations\n",
    "\n",
    "comb = combinations(np.arange(3,12), 3)\n",
    "y=df2['SeriousDlqin2yrs']\n",
    "j=[]\n",
    "k=[]\n",
    "l=0\n",
    "#test = df_scale[2]\n",
    "\n",
    "for i in comb:\n",
    "\n",
    "  X=df_scale[:,[i[0],i[1],i[2]]]\n",
    "  reg = LinearRegression(copy_X=True, fit_intercept=True)\n",
    "  X_train, X_test, y_train, y_test = train_test_split(X,y,\n",
    "                                   random_state=14,\n",
    "                                   test_size=0.2,\n",
    "                                   shuffle=True)\n",
    "  reg.fit(X_train,y_train)\n",
    "  #print(reg.coef_)\n",
    "  j.append(reg.predict(X_test)[123])#[10000])\n",
    "  l+=1\n",
    "  #t = np.array([test[i[0]], test[i[1]], test[i[2]]]).reshape(1,-1)\n",
    "  #j.append(reg.predict(t))#[i[0]], test[i[1]], test[i[2]]))\n",
    "  k.append(i)\n",
    "\n",
    "  #print(reg.predict(X_test)[0], i)\n",
    "\n",
    "\n",
    "  # Get the best model\n",
    "  #best_model = reg.best_estimator_\n",
    "\n",
    "  #df_s_test = scaler.transform(X_test)\n",
    "  # Predict probabilities on test data using the best model\n",
    "  #y_pred_proba = best_model.predict_proba(df_s_test)[:, 1]\n",
    "\n",
    "  # Calculate AUC\n",
    "  #auc = roc_auc_score(y_test, y_pred_proba)\n",
    "\n",
    "  #print(f'The AUC of the test set is {auc}')\n",
    "  #mean_squared_error(y_test, np.around(reg.predict(X_test)), squared=False)\n",
    "\n",
    "#print(np.max(np.array(j)), np.array(k)[np.argmax(np.array(j))])\n",
    "#print(j)\n",
    "#print(j)\n",
    "print(np.min(np.array(j)), np.array(k)[np.argmin(np.array(j))])"
   ]
  },
  {
   "cell_type": "code",
   "execution_count": null,
   "metadata": {
    "colab": {
     "base_uri": "https://localhost:8080/"
    },
    "id": "eAMurdcjF1GM",
    "outputId": "b57ac80e-38c7-4280-eb95-6178d9f6c53e"
   },
   "outputs": [],
   "source": [
    "print(len(y))"
   ]
  },
  {
   "cell_type": "code",
   "execution_count": null,
   "metadata": {
    "id": "18UJND_r_fd-"
   },
   "outputs": [],
   "source": [
    "\n",
    "#t = np.array([test[0], test[2], test[5]]).reshape(1, -1)\n",
    "\n",
    "#reg.predict(t)\n"
   ]
  },
  {
   "cell_type": "code",
   "execution_count": null,
   "metadata": {
    "id": "eDlxpCsRDYBu"
   },
   "outputs": [],
   "source": [
    "\n",
    "# X=df_scale[:,[3,8,10]]\n",
    "# reg = LinearRegression(copy_X=True, fit_intercept=True)\n",
    "# X_train, X_test, y_train, y_test = train_test_split(X,y,\n",
    "#                                    random_state=14,\n",
    "#                                    test_size=0.2,\n",
    "#                                    shuffle=True)\n",
    "# reg.fit(X_train,y_train)\n",
    "\n",
    "# mean_squared_error(y_test, np.around(reg.predict(X_test)), squared=False)\n"
   ]
  },
  {
   "cell_type": "code",
   "execution_count": null,
   "metadata": {
    "id": "uh7JZNKU-9m6"
   },
   "outputs": [],
   "source": [
    "#test[0]"
   ]
  },
  {
   "cell_type": "code",
   "execution_count": null,
   "metadata": {
    "id": "r6orPo-j9pc5"
   },
   "outputs": [],
   "source": [
    "#df_scale[0]"
   ]
  },
  {
   "cell_type": "code",
   "execution_count": null,
   "metadata": {
    "id": "6xQ5njUS1Xu0"
   },
   "outputs": [],
   "source": [
    "#  X=df_scale[:,3:12]\n",
    "\n",
    "#   X_train, X_test, y_train, y_test = train_test_split(X,y,\n",
    "#                                    random_state=15,\n",
    "#                                    test_size=0.2,\n",
    "#                                    shuffle=True)\n",
    "\n",
    "#   print(X_test)\n"
   ]
  },
  {
   "cell_type": "markdown",
   "metadata": {
    "id": "MP1LfFTRSOO6"
   },
   "source": [
    "#Tushar's workspace\n",
    "\n"
   ]
  },
  {
   "cell_type": "code",
   "execution_count": null,
   "metadata": {
    "colab": {
     "base_uri": "https://localhost:8080/",
     "height": 505
    },
    "id": "_yV9GaWoSPtG",
    "outputId": "a104b641-7288-461d-d5c7-290f3071c06c"
   },
   "outputs": [],
   "source": [
    "#Importing libraries\n",
    "import sklearn.metrics as metrics\n",
    "from sklearn.linear_model import LogisticRegression\n",
    "from sklearn.model_selection import train_test_split, cross_val_predict\n",
    "from sklearn.metrics import roc_curve, roc_auc_score\n",
    "from sklearn.metrics import RocCurveDisplay\n",
    "\n",
    "#Define the feature space and the target space\n",
    "y = df['SeriousDlqin2yrs']\n",
    "X = df.drop('SeriousDlqin2yrs', axis = 1)\n",
    "#Split data in X_train, y_train, X_test, and y_test\n",
    "X_train, X_test, y_train, y_test = train_test_split(X,y ,\n",
    "                                   random_state=14,\n",
    "                                   test_size=0.2,\n",
    "                                   shuffle=True)\n",
    "#Define the model with random hyperparameters\n",
    "logit = LogisticRegression(random_state=123, solver='saga', penalty='l2', class_weight='balanced', C=1.0, max_iter=1000)\n",
    "\n",
    "#Fit data into the model\n",
    "logit.fit(X_train, y_train)\n",
    "\n",
    "#Predict scores and round it off to nearest integer\n",
    "logit_scores_proba = logit.predict_proba(X_test)\n",
    "preds = logit_scores_proba[:,1].round()  # predictions\n",
    "\n",
    "#False positives, true positives\n",
    "fpr, tpr, threshold = metrics.roc_curve(y_test, preds)\n",
    "\n",
    "#Show the ROC curve\n",
    "RocCurveDisplay.from_estimator(logit,X_test,y_test)\n",
    "plt.show()"
   ]
  },
  {
   "cell_type": "code",
   "execution_count": null,
   "metadata": {
    "colab": {
     "base_uri": "https://localhost:8080/"
    },
    "id": "y6w9U9k4V6OM",
    "outputId": "6098d1a1-308c-4ec5-db93-3e605dabfd71"
   },
   "outputs": [],
   "source": [
    "#printing area under curve using false positives and true positives\n",
    "roc_auc = metrics.auc(fpr, tpr)\n",
    "print(roc_auc)\n",
    "print('AUC Score : ', round(roc_auc_score(y_test,preds),5))"
   ]
  },
  {
   "cell_type": "code",
   "execution_count": null,
   "metadata": {
    "colab": {
     "base_uri": "https://localhost:8080/"
    },
    "id": "MNvQRS-rUMMV",
    "outputId": "c4edeb2b-4a15-416b-f1e4-b429344c7ff8"
   },
   "outputs": [],
   "source": [
    "#Calculate the mean squared error for binary valued outputs\n",
    "mean_squared_error(y_test, preds, squared=False)  # squarred false means it will do a squareroot of MSE in the end"
   ]
  },
  {
   "cell_type": "markdown",
   "metadata": {
    "id": "nP41Gw3bUVtx"
   },
   "source": [
    "We will compare different AUC scores for the cases where we use different normalizations.\n",
    "\n",
    "1. No normalization\n",
    "2. Z normalization ((x-mean)/std_dev)\n",
    "3. logarithmic normalization for features with large values\n",
    "4. Standard normalization ((x-min)/(max-min))"
   ]
  },
  {
   "cell_type": "markdown",
   "metadata": {
    "id": "V7BVKCIfsZtJ"
   },
   "source": [
    "## Hyperparameter tuning using Grid Search.\n",
    "\n",
    "This method uses standard normalization on each column"
   ]
  },
  {
   "cell_type": "code",
   "execution_count": null,
   "metadata": {
    "id": "MXELwneWhjAo"
   },
   "outputs": [],
   "source": [
    "# from sklearn.model_selection import  GridSearchCV\n",
    "#\n",
    "# # Initialize logistic regression model\n",
    "# model = LogisticRegression(solver='liblinear')\n",
    "\n",
    "# # Define hyperparameters to tune\n",
    "# hyperparameters = {'C': [0.001, 0.01, 0.1, 1, 10, 100], 'penalty': ['l1', 'l2'],'max_iter': list(range(100,800,100))}\n",
    "\n",
    "# # Define scorer based on AUC\n",
    "# scorer = make_scorer(roc_auc_score, needs_proba=True)\n",
    "\n",
    "# # Initialize GridSearchCV\n",
    "# gridsearch = GridSearchCV(model, hyperparameters, scoring=scorer, cv=5)\n",
    "\n",
    "# scaler.fit(X_train)\n",
    "# df_s = scaler.transform(X_train)\n",
    "# # Fit GridSearchCV on training data\n",
    "# gridsearch.fit(df_s, y_train)\n",
    "\n",
    "# # Get the best model\n",
    "# best_model = gridsearch.best_estimator_\n",
    "\n",
    "# df_s_test = scaler.transform(X_test)\n",
    "# # Predict probabilities on test data using the best model\n",
    "# y_pred_proba = best_model.predict_proba(df_s_test)[:, 1]\n",
    "\n",
    "# # Calculate AUC\n",
    "# auc = roc_auc_score(y_test, y_pred_proba)\n",
    "\n",
    "# print(f'The AUC of the test set is {auc}')"
   ]
  },
  {
   "cell_type": "code",
   "execution_count": null,
   "metadata": {
    "id": "Dag-nuX4h-R6"
   },
   "outputs": [],
   "source": []
  },
  {
   "cell_type": "markdown",
   "metadata": {
    "id": "s3Efb_yysjeA"
   },
   "source": [
    "## Custom change to columns\n",
    "\n",
    "Gridsearch for hyperaparameter tuning"
   ]
  },
  {
   "cell_type": "code",
   "execution_count": null,
   "metadata": {
    "id": "MqvjHykYjOPE"
   },
   "outputs": [],
   "source": [
    "# df_custom = df.copy(deep = True)\n",
    "# df_custom['age'] = df_custom['age']/10\n",
    "# df_custom['MonthlyIncome' ] = df_custom['MonthlyIncome']+1\n",
    "# df_custom['MonthlyIncome'] = df_custom['MonthlyIncome'].apply(lambda x: np.log(x))\n",
    "# df_custom.head()"
   ]
  },
  {
   "cell_type": "code",
   "execution_count": null,
   "metadata": {
    "id": "7U_SRqOXmeEN"
   },
   "outputs": [],
   "source": []
  },
  {
   "cell_type": "code",
   "execution_count": null,
   "metadata": {
    "id": "tmWfvpZjjj8w"
   },
   "outputs": [],
   "source": [
    "# y_cust = df_custom['SeriousDlqin2yrs']\n",
    "# X_cust = df_custom.drop('SeriousDlqin2yrs', axis = 1)\n",
    "# #Split data in X_train, y_train, X_test, and y_test\n",
    "# X_train_c, X_test_c, y_train_c, y_test_c = train_test_split(X_cust,y_cust ,\n",
    "#                                    random_state=14,\n",
    "#                                    test_size=0.2,\n",
    "#                                    shuffle=True)\n",
    "# # Initialize logistic regression model\n",
    "# model = LogisticRegression(solver='liblinear')\n",
    "\n",
    "# # Define hyperparameters to tune\n",
    "# hyperparameters = {'C': [0.001, 0.01, 0.1, 1, 10, 100], 'penalty': ['l1', 'l2'],'max_iter': list(range(100,800,100))}\n",
    "\n",
    "# # Define scorer based on AUC\n",
    "# scorer = make_scorer(roc_auc_score, needs_proba=True)\n",
    "\n",
    "# # Initialize GridSearchCV\n",
    "# gridsearch = GridSearchCV(model, hyperparameters, scoring=scorer, cv=5)\n",
    "\n",
    "# # Fit GridSearchCV on training data\n",
    "# gridsearch.fit(X_train_c, y_train_c)\n",
    "\n",
    "# # Get the best model\n",
    "# best_model = gridsearch.best_estimator_\n",
    "\n",
    "\n",
    "# # Predict probabilities on test data using the best model\n",
    "# y_pred_proba_c = best_model.predict_proba(X_test_c)[:, 1]\n",
    "\n",
    "# # Calculate AUC\n",
    "# auc = roc_auc_score(y_test_c, y_pred_proba_c)\n",
    "\n",
    "# print(f'The AUC of the test set is {auc}')"
   ]
  },
  {
   "cell_type": "code",
   "execution_count": null,
   "metadata": {
    "id": "nDVhWqwMmMoM"
   },
   "outputs": [],
   "source": []
  },
  {
   "cell_type": "markdown",
   "metadata": {
    "id": "-4QqjlYzssk9"
   },
   "source": [
    "##Z (Normalization) of data set\n",
    "\n",
    "Gridsearch for hyperparameter tuning"
   ]
  },
  {
   "cell_type": "code",
   "execution_count": null,
   "metadata": {
    "id": "-p70A6XjntLc"
   },
   "outputs": [],
   "source": [
    "# df_z = (X_train - X_train.mean())/X_train.std()\n",
    "# # Initialize logistic regression model\n",
    "# model = LogisticRegression(solver='liblinear')\n",
    "\n",
    "# # Define hyperparameters to tune\n",
    "# hyperparameters = {'C': [0.001, 0.01, 0.1, 1, 10, 100], 'penalty': ['l1', 'l2'],'max_iter': list(range(100,800,100))}\n",
    "\n",
    "# # Define scorer based on AUC\n",
    "# scorer = make_scorer(roc_auc_score, needs_proba=True)\n",
    "\n",
    "# # Initialize GridSearchCV\n",
    "# gridsearch = GridSearchCV(model, hyperparameters, scoring=scorer, cv=5)\n",
    "\n",
    "# # Fit GridSearchCV on training data\n",
    "# gridsearch.fit(df_z, y_train)\n",
    "\n",
    "# # Get the best model\n",
    "# best_model = gridsearch.best_estimator_\n",
    "\n",
    "# df_z_test = (X_test - X_test.mean())/X_test.std()\n",
    "# # Predict probabilities on test data using the best model\n",
    "# y_pred_proba = best_model.predict_proba(df_z_test)[:, 1]\n",
    "\n",
    "# # Calculate AUC\n",
    "# auc = roc_auc_score(y_test, y_pred_proba)\n",
    "\n",
    "# print(f'The AUC of the test set is {auc}')"
   ]
  },
  {
   "cell_type": "code",
   "execution_count": null,
   "metadata": {
    "id": "kYJTzWSloA31"
   },
   "outputs": [],
   "source": []
  },
  {
   "cell_type": "markdown",
   "metadata": {
    "id": "ekhrK5A4s1KK"
   },
   "source": [
    "**The AUC score is more or less the same for all the above cases**"
   ]
  },
  {
   "cell_type": "markdown",
   "metadata": {
    "id": "jN9doe6FtA7z"
   },
   "source": [
    "#Try RandomSearch instead\n",
    "\n",
    "There should not be any improvement unless the previous cases gave us a local minima"
   ]
  },
  {
   "cell_type": "markdown",
   "metadata": {
    "id": "rF6MAYFvtJLl"
   },
   "source": [
    "#No normalization"
   ]
  },
  {
   "cell_type": "code",
   "execution_count": null,
   "metadata": {
    "id": "jb9RuxXUpK0S"
   },
   "outputs": [],
   "source": [
    "# from sklearn.model_selection import train_test_split, RandomizedSearchCV\n",
    "# model = LogisticRegression(solver = 'liblinear')\n",
    "\n",
    "# # Define hyperparameters to tune\n",
    "# hyperparameters = {'C': np.logspace(-4, 4, 20),\n",
    "#                    'penalty': ['l1', 'l2'],\n",
    "#                    'max_iter': list(range(100,800,100))}\n",
    "\n",
    "# # Define scorer based on AUC\n",
    "# scorer = make_scorer(roc_auc_score, needs_proba=True)\n",
    "\n",
    "# # Initialize RandomizedSearchCV\n",
    "# randomsearch = RandomizedSearchCV(model, hyperparameters, scoring=scorer, cv=5)\n",
    "\n",
    "# # Fit RandomizedSearchCV on training data\n",
    "# randomsearch.fit(X_train, y_train)\n",
    "\n",
    "# # Get the best model\n",
    "# best_model = randomsearch.best_estimator_\n",
    "\n",
    "# # Predict probabilities on test data using the best model\n",
    "# y_pred_proba = best_model.predict_proba(X_test)[:, 1]\n",
    "\n",
    "# # Calculate AUC\n",
    "# auc = roc_auc_score(y_test, y_pred_proba)\n",
    "\n",
    "# print(f'The AUC of the test set is {auc}')"
   ]
  },
  {
   "cell_type": "code",
   "execution_count": null,
   "metadata": {
    "id": "i08nwoJUqDKE"
   },
   "outputs": [],
   "source": []
  },
  {
   "cell_type": "markdown",
   "metadata": {
    "id": "6xMT0itPtO5b"
   },
   "source": [
    "#Standard min-max scaling"
   ]
  },
  {
   "cell_type": "code",
   "execution_count": null,
   "metadata": {
    "id": "834YK13cqDGf"
   },
   "outputs": [],
   "source": [
    "\n",
    "# from sklearn.metrics import make_scorer\n",
    "# # Initialize logistic regression model\n",
    "# model = LogisticRegression(solver='liblinear')\n",
    "\n",
    "# randomsearch = RandomizedSearchCV(model, hyperparameters, scoring=scorer, cv=5)\n",
    "\n",
    "# scaler.fit(X_train)\n",
    "# df_s = scaler.transform(X_train)\n",
    "# # Fit RandomizedSearchCV on training data\n",
    "# randomsearch.fit(df_s, y_train)\n",
    "\n",
    "# # Get the best model\n",
    "# best_model = randomsearch.best_estimator_\n",
    "\n",
    "# df_s_test = scaler.transform(X_test)\n",
    "# # Predict probabilities on test data using the best model\n",
    "# y_pred_proba = best_model.predict_proba(df_s_test)[:, 1]\n",
    "\n",
    "# # Calculate AUC\n",
    "# auc = roc_auc_score(y_test, y_pred_proba)\n",
    "\n",
    "# print(f'The AUC of the test set is {auc}')"
   ]
  },
  {
   "cell_type": "code",
   "execution_count": null,
   "metadata": {
    "id": "zoBufc1UqIrs"
   },
   "outputs": [],
   "source": []
  },
  {
   "cell_type": "markdown",
   "metadata": {
    "id": "lkvuD215tSjk"
   },
   "source": [
    "#Custom scaling"
   ]
  },
  {
   "cell_type": "code",
   "execution_count": null,
   "metadata": {
    "id": "9Wa9nOwZqNNH"
   },
   "outputs": [],
   "source": [
    "# y_cust = df_custom['SeriousDlqin2yrs']\n",
    "# X_cust = df_custom.drop('SeriousDlqin2yrs', axis = 1)\n",
    "# #Split data in X_train, y_train, X_test, and y_test\n",
    "# X_train_c, X_test_c, y_train_c, y_test_c = train_test_split(X_cust,y_cust ,\n",
    "#                                    random_state=14,\n",
    "#                                    test_size=0.2,\n",
    "#                                    shuffle=True)\n",
    "# # Initialize logistic regression model\n",
    "# model = LogisticRegression(solver='liblinear')\n",
    "\n",
    "\n",
    "# randomsearch = RandomizedSearchCV(model, hyperparameters, scoring=scorer, cv=5)\n",
    "\n",
    "# # Fit RandmizedSearchCV on training data\n",
    "# randomsearch.fit(X_train_c, y_train_c)\n",
    "\n",
    "# # Get the best model\n",
    "# best_model = randomsearch.best_estimator_\n",
    "\n",
    "\n",
    "# # Predict probabilities on test data using the best model\n",
    "# y_pred_proba_c = best_model.predict_proba(X_test_c)[:, 1]\n",
    "\n",
    "# # Calculate AUC\n",
    "# auc = roc_auc_score(y_test_c, y_pred_proba_c)\n",
    "\n",
    "# print(f'The AUC of the test set is {auc}')"
   ]
  },
  {
   "cell_type": "code",
   "execution_count": null,
   "metadata": {
    "id": "hXwNuCWqqoJf"
   },
   "outputs": [],
   "source": []
  },
  {
   "cell_type": "markdown",
   "metadata": {
    "id": "vg1M685KtWZm"
   },
   "source": [
    "# Z Normalization"
   ]
  },
  {
   "cell_type": "code",
   "execution_count": null,
   "metadata": {
    "id": "KQYxzYP1qrWO"
   },
   "outputs": [],
   "source": [
    "# df_z = (X_train - X_train.mean())/X_train.std()\n",
    "# # Initialize logistic regression model\n",
    "# model = LogisticRegression(solver='liblinear')\n",
    "\n",
    "\n",
    "# # Initialize RandomizedSearch\n",
    "# randomsearch = RandomizedSearchCV(model, hyperparameters, scoring=scorer, cv=5)\n",
    "\n",
    "# # Fit RandomizedSearchCV on training data\n",
    "# randomsearch.fit(df_z, y_train)\n",
    "\n",
    "# # Get the best model\n",
    "# best_model = randomsearch.best_estimator_\n",
    "\n",
    "# df_z_test = (X_test - X_test.mean())/X_test.std()\n",
    "# # Predict probabilities on test data using the best model\n",
    "# y_pred_proba = best_model.predict_proba(df_z_test)[:, 1]\n",
    "\n",
    "# # Calculate AUC\n",
    "# auc = roc_auc_score(y_test, y_pred_proba)\n",
    "\n",
    "# print(f'The AUC of the test set is {auc}')"
   ]
  },
  {
   "cell_type": "code",
   "execution_count": null,
   "metadata": {
    "id": "111gC1SkrYWZ"
   },
   "outputs": [],
   "source": []
  },
  {
   "cell_type": "markdown",
   "metadata": {
    "id": "x2bW6jCHtZaq"
   },
   "source": [
    "**As expected, there is no improvement**\n"
   ]
  },
  {
   "cell_type": "markdown",
   "metadata": {
    "id": "JcxhWNdouTYr"
   },
   "source": [
    "## Using GPU for hyperparameter tuning"
   ]
  },
  {
   "cell_type": "code",
   "execution_count": null,
   "metadata": {
    "id": "clOkywiruSlR"
   },
   "outputs": [],
   "source": [
    "# import torch\n",
    "# import time\n",
    "# if torch.cuda.is_available():\n",
    "#     device = torch.device(\"cuda\")\n",
    "# else:\n",
    "#     device = torch.device(\"cpu\")\n",
    "\n",
    "# model = LogisticRegression(solver = 'liblinear')\n",
    "\n",
    "# # Define hyperparameters to tune\n",
    "# hyperparameters = {'C': np.logspace(-4, 4, 20),\n",
    "#                    'penalty': ['l1', 'l2'],\n",
    "#                    'max_iter': list(range(100,800,100))}\n",
    "\n",
    "# # Define scorer based on AUC\n",
    "# scorer = make_scorer(roc_auc_score, needs_proba=True)\n",
    "\n",
    "# t0 = time.time()\n",
    "# # Initialize RandomizedSearchCV\n",
    "# randomsearch = RandomizedSearchCV(model, hyperparameters, scoring=scorer, cv=5)\n",
    "\n",
    "\n",
    "# randomsearch.fit(X_train.to(device), y_train.to(device))\n",
    "\n",
    "# # Get the best model\n",
    "# best_model = randomsearch.best_estimator_\n",
    "\n",
    "# # Predict probabilities on test data using the best model and move data to GPU with .to(device)\n",
    "# y_pred_proba = best_model.predict_proba(X_test.to(device))[:, 1]\n",
    "\n",
    "# # Calculate AUC\n",
    "# auc = roc_auc_score(y_test.to(device), y_pred_proba)\n",
    "\n",
    "# t1 = time.time()\n",
    "# print('Time taken', t1-t0)\n",
    "# print(f'The AUC of the test set is {auc}')"
   ]
  },
  {
   "cell_type": "markdown",
   "metadata": {
    "id": "8xZ5aeGW04l2"
   },
   "source": [
    "## Random Forest"
   ]
  },
  {
   "cell_type": "code",
   "execution_count": null,
   "metadata": {
    "id": "6Q-34AX91MaD"
   },
   "outputs": [],
   "source": [
    "# from sklearn.ensemble import RandomForestClassifier\n",
    "# from sklearn.metrics import precision_score, recall_score, f1_score, confusion_matrix, cohen_kappa_score, matthews_corrcoef\n",
    "\n",
    "# #Define the feature space and the target space\n",
    "# y = df['SeriousDlqin2yrs']\n",
    "# X = df.drop('SeriousDlqin2yrs', axis = 1)\n",
    "# #Split data in X_train, y_train, X_test, and y_test\n",
    "# X_train, X_test, y_train, y_test = train_test_split(X,y ,\n",
    "#                                    random_state=14,\n",
    "#                                    test_size=0.2,\n",
    "#                                    shuffle=True)\n",
    "# # Define the model\n",
    "# rf = RandomForestClassifier()\n",
    "\n",
    "# # Define the hyperparameters to tune\n",
    "# param_grid = {\n",
    "#     'n_estimators': [100, 200, 300, 400, 500],\n",
    "#     'max_depth': [10, 20, 30, 40, 50],\n",
    "#     'min_samples_split': [2, 5, 10],\n",
    "#     'min_samples_leaf': [1, 2, 4],\n",
    "#     'bootstrap': [True]\n",
    "# }\n",
    "\n",
    "# # Define scorer based on AUC\n",
    "# scorer = make_scorer(roc_auc_score, needs_proba=True)\n",
    "\n",
    "# # Initialize RandomizedSearchCV\n",
    "# randomsearch = RandomizedSearchCV(rf, param_grid, scoring=scorer, cv=5, verbose = 2)\n",
    "\n",
    "# # Fit RandomizedSearchCV on training data\n",
    "# randomsearch.fit(X_train, y_train)\n",
    "\n",
    "# # Get the best model\n",
    "# best_model = randomsearch.best_estimator_\n",
    "\n",
    "# # Get the best parameters\n",
    "# best_params = randomsearch.best_params_\n",
    "# print(f\"Best parameters: {best_params}\")\n",
    "\n",
    "\n",
    "# # Fit the model with the best parameters\n",
    "# rf_best = RandomForestClassifier(**best_params)\n",
    "# rf_best.fit(X_train, y_train)\n",
    "\n",
    "# # Make predictions\n",
    "# y_pred = rf_best.predict(X_test)\n",
    "# y_pred_proba = best_model.predict_proba(X_test)[:, 1]\n",
    "\n",
    "# # Evaluate the model\n",
    "# precision = precision_score(y_test, y_pred)\n",
    "# recall = recall_score(y_test, y_pred)\n",
    "# f1 = f1_score(y_test, y_pred)\n",
    "# conf_matrix = confusion_matrix(y_test, y_pred)\n",
    "# kappa = cohen_kappa_score(y_test, y_pred)\n",
    "# mcc = matthews_corrcoef(y_test, y_pred)\n",
    "# auc = roc_auc_score(y_test, y_pred_proba)\n",
    "\n",
    "# print(f\"Precision: {precision}\")\n",
    "# print(f\"Recall: {recall}\")\n",
    "# print(f\"F1 Score: {f1}\")\n",
    "# print(f\"Confusion Matrix: \\n{conf_matrix}\")\n",
    "# print(f\"Cohen's Kappa: {kappa}\")\n",
    "# print(f\"Matthews Correlation Coefficient: {mcc}\")\n",
    "# print(f\"AUC: {auc}\")"
   ]
  },
  {
   "cell_type": "markdown",
   "metadata": {
    "id": "dwOL40ZQeMYx"
   },
   "source": [
    "###XGBoost"
   ]
  },
  {
   "cell_type": "code",
   "execution_count": null,
   "metadata": {
    "id": "hLiRZADveNoJ"
   },
   "outputs": [],
   "source": [
    "# from xgboost import XGBClassifier\n",
    "\n",
    "# # Define the model\n",
    "# model = XGBClassifier(tree_method='hist', device = 'cuda')\n",
    "\n",
    "# # Define the parameters for the RandomizedSearch\n",
    "# params = {\n",
    "#     'min_child_weight': [1, 5, 10],\n",
    "#     'gamma': [0.5, 1, 1.5, 2, 5],\n",
    "#     'subsample': [0.6, 0.8, 1.0],\n",
    "#     'colsample_bytree': [0.6, 0.8, 1.0],\n",
    "#     'max_depth': [3, 4, 5]\n",
    "# }\n",
    "\n",
    "# random_search = RandomizedSearchCV(model, param_distributions=params, n_iter=5, scoring='roc_auc', n_jobs=-1, cv=5, verbose=2)\n",
    "\n",
    "# # Fit the model to the training data\n",
    "# random_search.fit(X_train, y_train)\n",
    "\n",
    "# # Make predictions\n",
    "# y_pred = random_search.predict(X_test)\n",
    "# y_pred_proba = model.predict_proba(X_test)[:, 1]\n",
    "\n",
    "# # Evaluate the model\n",
    "# precision = precision_score(y_test, y_pred)\n",
    "# recall = recall_score(y_test, y_pred)\n",
    "# f1 = f1_score(y_test, y_pred)\n",
    "# conf_matrix = confusion_matrix(y_test, y_pred)\n",
    "# kappa = cohen_kappa_score(y_test, y_pred)\n",
    "# mcc = matthews_corrcoef(y_test, y_pred)\n",
    "# auc = roc_auc_score(y_test, y_pred_proba)\n",
    "\n",
    "# print(f\"Precision: {precision}\")\n",
    "# print(f\"Recall: {recall}\")\n",
    "# print(f\"F1 Score: {f1}\")\n",
    "# print(f\"Confusion Matrix: \\n{conf_matrix}\")\n",
    "# print(f\"Cohen's Kappa: {kappa}\")\n",
    "# print(f\"Matthews Correlation Coefficient: {mcc}\")\n",
    "# print(f\"AUC: {auc}\")"
   ]
  },
  {
   "cell_type": "markdown",
   "metadata": {
    "id": "RiBOV2GhB-SW"
   },
   "source": [
    "#### We get an AUC score of 0.85 which is amazing!"
   ]
  },
  {
   "cell_type": "code",
   "execution_count": null,
   "metadata": {
    "colab": {
     "base_uri": "https://localhost:8080/"
    },
    "id": "uQQci-8i4UC2",
    "outputId": "0ac6825b-dcb5-46f7-e23e-717ac4e6c6de"
   },
   "outputs": [],
   "source": [
    "#LOOK AT SHAP VALUES\n",
    "%pip install shap"
   ]
  },
  {
   "cell_type": "markdown",
   "metadata": {
    "id": "-iFV1Sy9Pwbu"
   },
   "source": [
    "##Ankur's Workspace\n",
    "\n"
   ]
  },
  {
   "cell_type": "code",
   "execution_count": null,
   "metadata": {
    "colab": {
     "base_uri": "https://localhost:8080/"
    },
    "id": "CxiYFMnUPnNM",
    "outputId": "80d38b87-06af-4998-cebc-8834b2315c84"
   },
   "outputs": [],
   "source": [
    "from sklearn.model_selection import train_test_split\n",
    "from sklearn.ensemble import RandomForestClassifier\n",
    "from sklearn import metrics\n",
    "from sklearn.metrics import classification_report\n",
    "from sklearn.metrics import confusion_matrix\n",
    "\n",
    "\n",
    "y = df['SeriousDlqin2yrs']\n",
    "X = df.drop(['SeriousDlqin2yrs','ID','age','NumberOfDependents'], axis = 1)\n",
    "X_train, X_test, y_train, y_test = train_test_split(X, y, test_size=0.3, random_state=1)\n",
    "\n",
    "\n",
    "from sklearn.ensemble import RandomForestClassifier\n",
    "clf = RandomForestClassifier()\n",
    "clf.fit(X_train, y_train)\n",
    "y_pred = clf.predict(X_test)\n",
    "\n",
    "\n",
    "print(classification_report(y_pred, y_test))"
   ]
  },
  {
   "cell_type": "code",
   "execution_count": null,
   "metadata": {
    "colab": {
     "base_uri": "https://localhost:8080/"
    },
    "id": "PIviAKQelRaS",
    "outputId": "e5770951-5a9b-4500-cdf0-f3e69ad07a99"
   },
   "outputs": [],
   "source": [
    "conf_mat = confusion_matrix(y_test, y_pred)\n",
    "print(conf_mat)\n"
   ]
  }
 ],
 "metadata": {
  "accelerator": "GPU",
  "colab": {
   "collapsed_sections": [
    "f49lR7q5xZGc",
    "i0euzEk_Ftcz",
    "IcLD8KadHTJ0",
    "7ni5RKgNHvh4",
    "2Q_BU3nByuSC",
    "EjYZo0Xwx7ud",
    "NkoE1XQdvziU",
    "V7BVKCIfsZtJ",
    "s3Efb_yysjeA",
    "-4QqjlYzssk9",
    "rF6MAYFvtJLl",
    "6xMT0itPtO5b",
    "lkvuD215tSjk"
   ],
   "gpuType": "T4",
   "provenance": []
  },
  "kernelspec": {
   "display_name": "Python 3 (ipykernel)",
   "language": "python",
   "name": "python3"
  },
  "language_info": {
   "codemirror_mode": {
    "name": "ipython",
    "version": 3
   },
   "file_extension": ".py",
   "mimetype": "text/x-python",
   "name": "python",
   "nbconvert_exporter": "python",
   "pygments_lexer": "ipython3",
   "version": "3.10.9"
  }
 },
 "nbformat": 4,
 "nbformat_minor": 1
}
